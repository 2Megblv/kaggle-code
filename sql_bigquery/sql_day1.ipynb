{
  "cells": [
    {
      "metadata": {
        "_uuid": "654d2baeecb8757e10d02a63ec6cc63fe2df2339",
        "_cell_guid": "fda0a223-5fd5-4524-a402-ecaef2905fa0",
        "_kg_hide-output": true
      },
      "cell_type": "markdown",
      "source": "# Question1 - Which countries use a unit other than ppm to measure any type of pollution? "
    },
    {
      "metadata": {
        "_uuid": "c346ce030dd69d682f91756fc9185ae7845066fb",
        "collapsed": true,
        "_cell_guid": "a4f6aab8-ae9b-4123-87e9-94aadf6a757c",
        "trusted": false
      },
      "cell_type": "code",
      "source": "import bq_helper\n\ndata = bq_helper.BigQueryHelper(active_project='bigquery-public-data',\n                                dataset_name='openaq')\n\n\n",
      "execution_count": null,
      "outputs": []
    },
    {
      "metadata": {
        "_uuid": "1bda4379b5bd6c2ab6fd579dab113484392b42cc",
        "_cell_guid": "8cc63d09-19a6-4378-8faa-859fb187dc58",
        "trusted": false,
        "collapsed": true
      },
      "cell_type": "code",
      "source": "data.list_tables()",
      "execution_count": null,
      "outputs": []
    },
    {
      "metadata": {
        "_uuid": "23b6e127edad19465979ffe51340c312cbae003f",
        "_cell_guid": "0d5a7895-8a48-4f3c-a39a-20d0259243e5",
        "trusted": false,
        "collapsed": true
      },
      "cell_type": "code",
      "source": "data.head(\"global_air_quality\")",
      "execution_count": null,
      "outputs": []
    },
    {
      "metadata": {
        "_uuid": "67c563c961e85326aac410cc42dbe7ab26a1460c",
        "collapsed": true,
        "_cell_guid": "24c01923-ec82-49da-87c3-04219a3b15ad",
        "trusted": false
      },
      "cell_type": "code",
      "source": "query1 = \"\"\" SELECT DISTINCT country, unit\n            FROM `bigquery-public-data.openaq.global_air_quality`\n            WHERE LOWER(unit) != 'ppm'\"\"\"",
      "execution_count": null,
      "outputs": []
    },
    {
      "metadata": {
        "_uuid": "526cc2afd4cfa14d5f09bdecc749b48db4423a90",
        "_cell_guid": "6294a19d-1bf1-4be4-a1c5-36cb65afe25d",
        "trusted": false,
        "collapsed": true
      },
      "cell_type": "code",
      "source": "data.estimate_query_size(query1)",
      "execution_count": null,
      "outputs": []
    },
    {
      "metadata": {
        "_uuid": "d964df27f5914dd16074074fc6ab55b27a1ad197",
        "collapsed": true,
        "_cell_guid": "cb747223-8045-429e-a3b0-a0d6870b1541",
        "trusted": false
      },
      "cell_type": "code",
      "source": "q1_data = data.query_to_pandas_safe(query1)",
      "execution_count": null,
      "outputs": []
    },
    {
      "metadata": {
        "_uuid": "344b40750dd9f3c21f84e7d3a161ef93ae2c2ea0",
        "_cell_guid": "6fc224a4-2c7d-44ea-ad8c-135dbb0366c3",
        "trusted": false,
        "collapsed": true
      },
      "cell_type": "code",
      "source": "q1_data",
      "execution_count": null,
      "outputs": []
    },
    {
      "metadata": {
        "_uuid": "cb195330b3c2295af2aa9c7e565476e77ac3701f",
        "_cell_guid": "91544fbc-f296-4cad-8f06-fbaec5225c39"
      },
      "cell_type": "markdown",
      "source": "# Question 2 - Which pollutants have a value of exactly 0?"
    },
    {
      "metadata": {
        "_uuid": "650599e1a962ea6dca07acdf1c373d59a1bc83a1",
        "collapsed": true,
        "_cell_guid": "536f2264-6bbd-427a-a5c4-8494b3f5f79f",
        "trusted": false
      },
      "cell_type": "code",
      "source": "query2 = \"\"\"SELECT location, city,  pollutant, value\n            FROM `bigquery-public-data.openaq.global_air_quality`\n            WHERE value = 0\"\"\"",
      "execution_count": null,
      "outputs": []
    },
    {
      "metadata": {
        "_uuid": "3e19458c0c2e8e230d40dda6b65ce226680f96b9",
        "_cell_guid": "49a5aa90-1c97-41e1-8dc0-7909b50fdbec",
        "trusted": false,
        "collapsed": true
      },
      "cell_type": "code",
      "source": "data.estimate_query_size(query2)",
      "execution_count": null,
      "outputs": []
    },
    {
      "metadata": {
        "_uuid": "63860e9ea916f2ea1eaaff94d20f78144b2dfb1a",
        "collapsed": true,
        "_cell_guid": "efeff2af-8d75-43fa-a976-98006ef8f3bf",
        "trusted": false
      },
      "cell_type": "code",
      "source": "data2 = data.query_to_pandas_safe(query2)",
      "execution_count": null,
      "outputs": []
    },
    {
      "metadata": {
        "_uuid": "8139e7d17d15dde61fb93ae4a36892f0632dac1e",
        "_cell_guid": "52d8998a-f098-48b7-ae2f-8c6592826cbf",
        "trusted": false,
        "collapsed": true
      },
      "cell_type": "code",
      "source": "data2",
      "execution_count": null,
      "outputs": []
    },
    {
      "metadata": {
        "_uuid": "b0f920e6fc8e371f7b4ad10ff7015526552a19d5",
        "_cell_guid": "a2313b92-8f03-41e3-a28b-99a0f54397b2"
      },
      "cell_type": "markdown",
      "source": "Please feel free to ask any questions you have in this notebook or in the [Q&A forums](https://www.kaggle.com/questions-and-answers)! \n\nAlso, if you want to share or get comments on your kernel, remember you need to make it public first! You can change the visibility of your kernel under the \"Settings\" tab, on the right half of your screen."
    }
  ],
  "metadata": {
    "kernelspec": {
      "display_name": "Python 3",
      "language": "python",
      "name": "python3"
    },
    "language_info": {
      "pygments_lexer": "ipython3",
      "nbconvert_exporter": "python",
      "file_extension": ".py",
      "name": "python",
      "codemirror_mode": {
        "version": 3,
        "name": "ipython"
      },
      "version": "3.6.4",
      "mimetype": "text/x-python"
    }
  },
  "nbformat": 4,
  "nbformat_minor": 1
}