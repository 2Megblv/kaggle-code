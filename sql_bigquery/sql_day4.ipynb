{
  "cells": [
    {
      "metadata": {
        "_uuid": "b6e6f6d01b6fda3e2125722a2f12455e02e74873",
        "_cell_guid": "1dd1276a-1cd1-4f8c-827a-80bbe8e491ce"
      },
      "cell_type": "markdown",
      "source": "# Question 1 - How many Bitcoin transactions were made each day in 2017?\nYou can use the \"timestamp\" column from the \"transactions\" table to answer this question. \n"
    },
    {
      "metadata": {
        "_uuid": "d5b92bbb71d62ad2a6629845723287f0aa260cb9",
        "collapsed": true,
        "_cell_guid": "99a8bf70-3e8d-4af6-bcdb-cf9910ea730a",
        "trusted": false
      },
      "cell_type": "code",
      "source": "import pandas as pd\nimport bq_helper",
      "execution_count": null,
      "outputs": []
    },
    {
      "metadata": {
        "_uuid": "97438943ae128a959ff0ec9411ce35dda08cb0ba",
        "collapsed": true,
        "_cell_guid": "a87f24b7-122a-4999-86e4-793141cd0555",
        "trusted": false
      },
      "cell_type": "code",
      "source": "btc = bq_helper.BigQueryHelper(active_project=\"bigquery-public-data\",\n                                dataset_name=\"bitcoin_blockchain\")",
      "execution_count": null,
      "outputs": []
    },
    {
      "metadata": {
        "_uuid": "adb59cc46acedd49fa9e0f2eb9282e4df190e4ba",
        "_cell_guid": "fc2d81f4-64cd-4574-ad20-4ab95d86f0af",
        "trusted": false,
        "collapsed": true
      },
      "cell_type": "code",
      "source": "btc.list_tables()",
      "execution_count": null,
      "outputs": []
    },
    {
      "metadata": {
        "_uuid": "129e0212afbbd528b613824ab9ea8bf0e5608eb3",
        "_cell_guid": "999e17ed-cb29-45fc-b995-aed6eaa19072"
      },
      "cell_type": "markdown",
      "source": "only two tables in the one, blocks and transactions"
    },
    {
      "metadata": {
        "_uuid": "f0e34e24d8a6465fdfee35241f56aba3c7788803",
        "collapsed": true,
        "_cell_guid": "26f2583a-35b6-4023-a354-3b0c63d00ca3",
        "trusted": false
      },
      "cell_type": "code",
      "source": "trans_dat = btc.head('transactions')",
      "execution_count": null,
      "outputs": []
    },
    {
      "metadata": {
        "_uuid": "cc6d78aca91cb15a7f3fc0f72c7789a38bdb20a7",
        "_cell_guid": "78eb225e-945c-4b44-aedd-7a70b24b2ce2",
        "trusted": false,
        "collapsed": true
      },
      "cell_type": "code",
      "source": "trans_dat",
      "execution_count": null,
      "outputs": []
    },
    {
      "metadata": {
        "_uuid": "96ef4c4e2d8814c7a394ce402f384958ceae3897",
        "_cell_guid": "9be72e24-82fd-4f91-a5e1-f9057ea4967c",
        "trusted": false,
        "collapsed": true
      },
      "cell_type": "code",
      "source": "trans_dat.columns",
      "execution_count": null,
      "outputs": []
    },
    {
      "metadata": {
        "_uuid": "0c3c61675987f226ee662354bde421925a0aeea6",
        "_cell_guid": "1ff1af5c-b606-4b8f-a418-a39e62d58948",
        "trusted": false,
        "collapsed": true
      },
      "cell_type": "code",
      "source": "#How many Bitcoin transactions were made each day in 2017?\nq1 = \"\"\"\nWITH time AS(\n    SELECT TIMESTAMP_MILLIS(timestamp) AS trans_time,\n        transaction_id\n    FROM `bigquery-public-data.bitcoin_blockchain.transactions`\n    )            \n    SELECT COUNT(transaction_id) AS transactions,\n        EXTRACT(DAY FROM trans_time) AS day,\n        EXTRACT(MONTH FROM trans_time) AS month\n    FROM time\n    WHERE EXTRACT(YEAR FROM trans_time) = 2017\n    GROUP BY month, day\n    ORDER BY month, day\n\"\"\"",
      "execution_count": null,
      "outputs": []
    },
    {
      "metadata": {
        "_uuid": "7e4541ce93ec4437187a9fce3039a4d95705eb1f",
        "_cell_guid": "ce277f46-bee9-43cc-a576-ec0c031c0dfd",
        "trusted": false,
        "collapsed": true
      },
      "cell_type": "code",
      "source": "btc.estimate_query_size(q1)",
      "execution_count": null,
      "outputs": []
    },
    {
      "metadata": {
        "_uuid": "5d674e352cfb6c1858306a2b0cfe44cb6a743b76",
        "collapsed": true,
        "_cell_guid": "82bc734c-1f3e-4730-a402-f6b5520614ca",
        "trusted": false
      },
      "cell_type": "code",
      "source": "q1_ans = btc.query_to_pandas_safe(q1 ,max_gb_scanned=21)",
      "execution_count": null,
      "outputs": []
    },
    {
      "metadata": {
        "_uuid": "7ca83560b41cb11e3241e288f3bcf42e5a1ac078",
        "_cell_guid": "7e3d4405-c245-4feb-919e-f93453e19624",
        "trusted": false,
        "collapsed": true
      },
      "cell_type": "code",
      "source": "q1_ans",
      "execution_count": null,
      "outputs": []
    },
    {
      "metadata": {
        "_uuid": "d44a104c816aaaa4772b3fa79e499051864ac492",
        "_cell_guid": "6fef070a-2b8b-496e-bfd1-9737b34462f5"
      },
      "cell_type": "markdown",
      "source": "# Question 2 - How many transactions are associated with each merkle root?\nYou can use the \"merkle_root\" and \"transaction_id\" columns in the \"transactions\" table to answer this question."
    },
    {
      "metadata": {
        "_uuid": "a6ffb9ab9953434f9119ee167afc2c7082155cb7",
        "_cell_guid": "d8e6e8f6-d21b-403a-be82-ba8b52308bc0",
        "trusted": false,
        "collapsed": true
      },
      "cell_type": "code",
      "source": "trans_dat",
      "execution_count": null,
      "outputs": []
    },
    {
      "metadata": {
        "_uuid": "20982ccb4daa93b96fc03a119df72d205a9d45cf",
        "collapsed": true,
        "_cell_guid": "e4fa9869-65d0-40ec-b4b3-84ebe0e2e17a",
        "trusted": false
      },
      "cell_type": "code",
      "source": "q2 = \"\"\"\n    SELECT merkle_root AS merkle, COUNT(transaction_id) AS transactions\n    FROM `bigquery-public-data.bitcoin_blockchain.transactions`\n    GROUP BY merkle\n    ORDER BY transactions\n\"\"\" ",
      "execution_count": null,
      "outputs": []
    },
    {
      "metadata": {
        "_uuid": "f220f66cccc0a71cd186574220355d52864b115d",
        "_cell_guid": "401b6ac6-d7b4-45d4-b4a0-5ab237bb76f6",
        "trusted": false,
        "collapsed": true
      },
      "cell_type": "code",
      "source": "btc.estimate_query_size(q2)",
      "execution_count": null,
      "outputs": []
    },
    {
      "metadata": {
        "_uuid": "120da3a2ee187a1ea3ed6dcd82b753d978d8beba",
        "collapsed": true,
        "_cell_guid": "a3a60fba-5c77-49a1-9f92-538ff34d02a0",
        "trusted": false
      },
      "cell_type": "code",
      "source": "q2_ans = btc.query_to_pandas_safe(q2 ,max_gb_scanned=37)",
      "execution_count": null,
      "outputs": []
    },
    {
      "metadata": {
        "_uuid": "90cb9235e8b3a21e14c5f1d9bb1efd7edfccbdda",
        "_cell_guid": "fa1c556e-c312-45e0-9295-b8929bc188e7",
        "trusted": false,
        "collapsed": true
      },
      "cell_type": "code",
      "source": "q2_ans",
      "execution_count": null,
      "outputs": []
    }
  ],
  "metadata": {
    "language_info": {
      "nbconvert_exporter": "python",
      "pygments_lexer": "ipython3",
      "version": "3.6.4",
      "codemirror_mode": {
        "version": 3,
        "name": "ipython"
      },
      "file_extension": ".py",
      "mimetype": "text/x-python",
      "name": "python"
    },
    "kernelspec": {
      "display_name": "Python 3",
      "language": "python",
      "name": "python3"
    }
  },
  "nbformat": 4,
  "nbformat_minor": 1
}