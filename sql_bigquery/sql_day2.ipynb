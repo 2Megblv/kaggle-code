{
  "cells": [
    {
      "metadata": {
        "collapsed": true,
        "_cell_guid": "9c71fde3-a115-46eb-bfcf-ff2df0fad3e1",
        "_uuid": "06c9b1bd27aaae805e183f4eeee78114df6bef28",
        "trusted": false
      },
      "cell_type": "code",
      "source": "import bq_helper\n\nhn_dat = bq_helper.BigQueryHelper(active_project='bigquery-public-data',\n                                dataset_name='hacker_news')",
      "execution_count": null,
      "outputs": []
    },
    {
      "metadata": {
        "_cell_guid": "827c6e52-8633-4039-980d-5d14d7cabeab",
        "_uuid": "3e5eef28d0dced7ee077cc8da19658d87aed35fa",
        "trusted": false,
        "collapsed": true
      },
      "cell_type": "code",
      "source": "hn_dat.list_tables()",
      "execution_count": null,
      "outputs": []
    },
    {
      "metadata": {
        "_cell_guid": "86d17086-1c26-4cba-b75a-2e6a8a0fad01",
        "_uuid": "b638ebab7fd548d55ad7accb14454a043c1a0f27"
      },
      "cell_type": "markdown",
      "source": "# Question 1: How many unique stories are there of each type in the full table?\n\n- obviously we will want to look at the stories table to answer this."
    },
    {
      "metadata": {
        "collapsed": true,
        "_cell_guid": "a475853d-7a77-4fce-8fe6-fbfaca55f998",
        "_uuid": "8f183bbf933d7aa1ef65b32e128e1653cabab689",
        "trusted": false
      },
      "cell_type": "code",
      "source": "hn_dat.head('stories')",
      "execution_count": null,
      "outputs": []
    },
    {
      "metadata": {
        "_cell_guid": "9c029055-2b65-4232-9145-a0b2f17973b7",
        "_uuid": "be7d525f8bf1e4077b190216c15423fc7710034c"
      },
      "cell_type": "markdown",
      "source": "- We want the number of unique ids in the first column.\n- I will therefore group by id and then count the number of results"
    },
    {
      "metadata": {
        "collapsed": true,
        "_cell_guid": "260a1739-55a8-4d03-8283-c3a58c16737f",
        "_uuid": "c0d1a143228d9caff50815fe93254e479e0f9a21",
        "trusted": false
      },
      "cell_type": "code",
      "source": "q1 = \"\"\"\nSELECT type, COUNT(id)\nFROM `bigquery-public-data.hacker_news.full`\nGROUP BY type\n\"\"\"",
      "execution_count": null,
      "outputs": []
    },
    {
      "metadata": {
        "_cell_guid": "b5b2ed7d-e83f-4658-af01-76c11fc68231",
        "_uuid": "b61dc4baed80f42beb3dded5d48e6b2da4c73358"
      },
      "cell_type": "markdown",
      "source": "Check that the query is not going to burn through an absurd amount of my monthly data quota"
    },
    {
      "metadata": {
        "collapsed": true,
        "_cell_guid": "03025d41-f857-4133-972c-bb04baa404d3",
        "_uuid": "fb58b3e3011efb2ace6376a68c03db53c53b88e4",
        "trusted": false
      },
      "cell_type": "code",
      "source": "hn_dat.estimate_query_size(q1)",
      "execution_count": null,
      "outputs": []
    },
    {
      "metadata": {
        "_cell_guid": "e6f02d92-db06-4d7c-b666-4c80c8be84ed",
        "_uuid": "82284937025e10f208f386586e1d76c099a6cef5"
      },
      "cell_type": "markdown",
      "source": "only a few megabytes so we are likely safe"
    },
    {
      "metadata": {
        "collapsed": true,
        "_cell_guid": "9f361138-6556-471f-9ef4-0f919d393c95",
        "_uuid": "b4d5f2774f9bd21ac93f97b5eaec3e1420498020",
        "trusted": false
      },
      "cell_type": "code",
      "source": "hn_summary = hn_dat.query_to_pandas_safe(q1)",
      "execution_count": null,
      "outputs": []
    },
    {
      "metadata": {
        "collapsed": true,
        "_cell_guid": "4cfc58df-4af6-4e88-bbe7-b0ae7f0b2de1",
        "_uuid": "942394136533889c6dcbc2e5ba28377ef2020ffc",
        "trusted": false
      },
      "cell_type": "code",
      "source": "hn_summary",
      "execution_count": null,
      "outputs": []
    },
    {
      "metadata": {
        "_cell_guid": "294168f8-8e36-4d2a-ab03-2b93ad4b1b0e",
        "_uuid": "1bb747bb12775b547ba98c56af6b4411c67863b7"
      },
      "cell_type": "markdown",
      "source": "# Question 2: How many comments have been deleted? \n\n- For this one we need to work with the comments dataset"
    },
    {
      "metadata": {
        "collapsed": true,
        "_cell_guid": "c540b383-62d2-483f-b4bb-078b0e849629",
        "_uuid": "89f3ce16516add753839b32eb72103d909c33d46",
        "trusted": false
      },
      "cell_type": "code",
      "source": "hn_dat.head('comments')",
      "execution_count": null,
      "outputs": []
    },
    {
      "metadata": {
        "collapsed": true,
        "_cell_guid": "5f12a293-e305-486f-b41e-1fb04ef103dd",
        "_uuid": "3d7808bf32e741d00df27f85500f9467c7b3c4eb",
        "trusted": false
      },
      "cell_type": "code",
      "source": "#(If a comment was deleted the \"deleted\" column in the comments table will have the value \"True\".)\nq2 = \"\"\"\nSELECT deleted, COUNT(id)\nFROM `bigquery-public-data.hacker_news.comments`\nGROUP BY deleted\n\"\"\"",
      "execution_count": null,
      "outputs": []
    },
    {
      "metadata": {
        "collapsed": true,
        "_cell_guid": "ee0ecf09-a8cd-4e23-bbf5-eef27fd9f59a",
        "_uuid": "fad3745d16033127ea44115c43236172c2f6b6d1",
        "trusted": false
      },
      "cell_type": "code",
      "source": "comment_summary = hn_dat.query_to_pandas_safe(q2)",
      "execution_count": null,
      "outputs": []
    },
    {
      "metadata": {
        "collapsed": true,
        "_cell_guid": "3b06e8da-e39b-44e0-9956-d16adb01b6a3",
        "_uuid": "fac6e0d78d445004a7bd09983426cf50e578a4e2",
        "trusted": false
      },
      "cell_type": "code",
      "source": "comment_summary",
      "execution_count": null,
      "outputs": []
    }
  ],
  "metadata": {
    "language_info": {
      "mimetype": "text/x-python",
      "file_extension": ".py",
      "codemirror_mode": {
        "version": 3,
        "name": "ipython"
      },
      "name": "python",
      "pygments_lexer": "ipython3",
      "version": "3.6.4",
      "nbconvert_exporter": "python"
    },
    "kernelspec": {
      "display_name": "Python 3",
      "language": "python",
      "name": "python3"
    }
  },
  "nbformat": 4,
  "nbformat_minor": 1
}