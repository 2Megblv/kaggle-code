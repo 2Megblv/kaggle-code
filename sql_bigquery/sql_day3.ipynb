{
  "cells": [
    {
      "metadata": {
        "_kg_hide-output": true,
        "_cell_guid": "fda0a223-5fd5-4524-a402-ecaef2905fa0",
        "_uuid": "654d2baeecb8757e10d02a63ec6cc63fe2df2339"
      },
      "cell_type": "markdown",
      "source": "# Scavenger hunt Day 3 answers\n\n## Which hours of the day do the most accidents occur during?\n   - Return a table that has information on how many accidents occurred in each hour of the day in 2015, sorted by the the number of accidents which occurred each day. Use the accident_2015 or accident_2016 table for this, and the timestamp_of_crash column. (Yes, there is an hour_of_crash column, but if you use that one you won't get a chance to practice with dates. :P)\n    - Hint: You will probably want to use the [HOUR() function](https://cloud.google.com/bigquery/docs/reference/legacy-sql#hour) for this.\n\n\n"
    },
    {
      "metadata": {
        "_uuid": "0893d2e014278b6aa5c7b6ccef5dcbc9e2cd5b19",
        "_cell_guid": "68268606-fb31-49ea-a751-075260a891ca",
        "collapsed": true,
        "trusted": false
      },
      "cell_type": "code",
      "source": "import bq_helper\n\naccident_dat = bq_helper.BigQueryHelper(active_project=\"bigquery-public-data\",\n                                   dataset_name=\"nhtsa_traffic_fatalities\")",
      "execution_count": null,
      "outputs": []
    },
    {
      "metadata": {
        "_uuid": "c8a4058af07114b8632865220dcce78e78f4bed5",
        "_cell_guid": "e7397d65-1243-4904-87d7-95951598f23c",
        "trusted": false,
        "collapsed": true
      },
      "cell_type": "code",
      "source": "accident_dat.list_tables()",
      "execution_count": null,
      "outputs": []
    },
    {
      "metadata": {
        "_uuid": "6bf31f17c60c1fe15098eee1163c5f5ad27cb133",
        "_cell_guid": "0dc2f64d-0a56-4d45-b56d-704fc11a1a5a",
        "collapsed": true,
        "trusted": false
      },
      "cell_type": "code",
      "source": "test_data = accident_dat.head('accident_2015')",
      "execution_count": null,
      "outputs": []
    },
    {
      "metadata": {
        "_uuid": "9ec2e66fd4521393800ab504b23436ead7f0c2cb",
        "_cell_guid": "27af9238-a839-4426-8344-9d22565d3a90",
        "trusted": false,
        "collapsed": true
      },
      "cell_type": "code",
      "source": "test_data.columns",
      "execution_count": null,
      "outputs": []
    },
    {
      "metadata": {
        "_uuid": "6d40c5e26aedeee8c45bd2552909d39db68452b3",
        "_cell_guid": "8effcb3b-33f3-42d7-be78-721a4364f75f",
        "collapsed": true,
        "trusted": false
      },
      "cell_type": "code",
      "source": "q1= \"\"\"\n    SELECT COUNT(consecutive_number), EXTRACT(HOUR FROM timestamp_of_crash)\n    FROM `bigquery-public-data.nhtsa_traffic_fatalities.accident_2015`\n    GROUP BY EXTRACT(HOUR FROM timestamp_of_crash)\n    ORDER BY COUNT(consecutive_number)\n    \"\"\"",
      "execution_count": null,
      "outputs": []
    },
    {
      "metadata": {
        "_uuid": "43cbdac90b3034c11017ed974cd75d14997b21f9",
        "_cell_guid": "d017175b-ac54-49e5-9de6-45779377bb2f",
        "trusted": false,
        "collapsed": true
      },
      "cell_type": "code",
      "source": "accident_dat.estimate_query_size(q1)",
      "execution_count": null,
      "outputs": []
    },
    {
      "metadata": {
        "_uuid": "472c0af133f4dd4d9fec0200350ccae574c4cf61",
        "_cell_guid": "dbf5135e-6f4c-4d1f-ae46-f077fb59e257",
        "collapsed": true,
        "trusted": false
      },
      "cell_type": "code",
      "source": "accidents_by_hour = accident_dat.query_to_pandas_safe(q1)",
      "execution_count": null,
      "outputs": []
    },
    {
      "metadata": {
        "_uuid": "ad2f1c10a1e52e9ed8323cc3f8e5eabf74f5b4ba",
        "_cell_guid": "7a3d3432-fe44-4166-b9a4-8fd1bac29cdc",
        "trusted": false,
        "collapsed": true
      },
      "cell_type": "code",
      "source": "accidents_by_hour",
      "execution_count": null,
      "outputs": []
    },
    {
      "metadata": {
        "_uuid": "00af394e30ee7f90d3e0a8e5173f7270b8e8fb0f",
        "_cell_guid": "072bcb52-bb97-4a17-82e4-23e6936fb532",
        "collapsed": true,
        "trusted": false
      },
      "cell_type": "code",
      "source": "accidents_by_hour.columns = [\"num_accidents\",\"hour_of_day\"]",
      "execution_count": null,
      "outputs": []
    },
    {
      "metadata": {
        "_uuid": "a72b67d2f145c1a2ed1fe0bdcae3b081c349f4bf",
        "_cell_guid": "2982bbdb-8883-495b-8d89-bcfa63c87b3f",
        "collapsed": true,
        "trusted": false
      },
      "cell_type": "code",
      "source": "accidents_by_hour = accidents_by_hour.sort_values('hour_of_day', axis=0)",
      "execution_count": null,
      "outputs": []
    },
    {
      "metadata": {
        "_uuid": "16d36df110f1d38fffb2cb0a190ec3809f481d06",
        "_cell_guid": "ac44dce9-efdc-47c4-87bf-370281f82713"
      },
      "cell_type": "markdown",
      "source": "Looks like a trend of a high number of accidents in the evening, highest numbers around evening rush hour -> first hours of darkness. An additional spike in accident number is observed in morning rush hour!"
    },
    {
      "metadata": {
        "_uuid": "acd5ac8b121595fe36326fb8433de72483d8e3c1",
        "_cell_guid": "d47ce93b-a0e7-4cde-ab06-3576ea8946bd",
        "trusted": false,
        "collapsed": true
      },
      "cell_type": "code",
      "source": "import matplotlib.pyplot as plt\nplt.bar(accidents_by_hour['hour_of_day'], accidents_by_hour['num_accidents'])",
      "execution_count": null,
      "outputs": []
    },
    {
      "metadata": {
        "_uuid": "4188969d20ec13693b6a141014e106cd5b8c905e",
        "_cell_guid": "1ef4e547-c08c-4e29-8773-e2d9c9b03cb4"
      },
      "cell_type": "markdown",
      "source": "## Which state has the most hit and runs?\n -  Return a table with the number of vehicles registered in each state that were involved in hit-and-run accidents, sorted by the number of hi Use the vehicle_2015 or vehicle_2016 table for this, especially the registration_state_name and hit_and_run columns."
    },
    {
      "metadata": {
        "_uuid": "ba50c5335f8bb5300cc54f250d18a62ee11c8039",
        "_cell_guid": "9727db72-a3c1-48fd-b335-417249a6b613",
        "collapsed": true,
        "trusted": false
      },
      "cell_type": "code",
      "source": "v_hickle =  accident_dat.head('vehicle_2015')",
      "execution_count": null,
      "outputs": []
    },
    {
      "metadata": {
        "_uuid": "df6dac0a90e43c923434c11f57d122815b270a67",
        "_cell_guid": "b6f9e427-9669-4ae7-b5de-7352f0977d14",
        "trusted": false,
        "collapsed": true
      },
      "cell_type": "code",
      "source": "v_hickle['hit_and_run']",
      "execution_count": null,
      "outputs": []
    },
    {
      "metadata": {
        "_uuid": "ec7a57a7957766d09d5a7f9fd1a538ad2f55aa59",
        "_cell_guid": "1a6e9b37-57bd-4c31-b9ce-e46263263240",
        "trusted": false,
        "collapsed": true
      },
      "cell_type": "code",
      "source": "list(v_hickle.columns)",
      "execution_count": null,
      "outputs": []
    },
    {
      "metadata": {
        "_uuid": "11afabd7cfba18e50ad92c8185e27858654b8761",
        "_cell_guid": "7ae33d4b-5808-4a41-8506-240fea1b3f6b"
      },
      "cell_type": "markdown",
      "source": "The hit_and_run column is not a YES/NO boolean, italso has Unknowns, so I am going to group by the state and hit_and_run type and then process the results in pandas. Some of the Unknowns may be interesting interesting in their own right so I don't just want to keep the YES data"
    },
    {
      "metadata": {
        "_cell_guid": "a4f6aab8-ae9b-4123-87e9-94aadf6a757c",
        "collapsed": true,
        "_uuid": "c346ce030dd69d682f91756fc9185ae7845066fb",
        "trusted": false
      },
      "cell_type": "code",
      "source": "q2= \"\"\" SELECT registration_state_name, hit_and_run, COUNT(hit_and_run) \n        FROM `bigquery-public-data.nhtsa_traffic_fatalities.vehicle_2015`\n        GROUP BY registration_state_name, hit_and_run\n        ORDER BY COUNT(hit_and_run) DESC\n    \"\"\"",
      "execution_count": null,
      "outputs": []
    },
    {
      "metadata": {
        "_uuid": "25dfafb5c29cdbdb14aa148222d4683d0e6a35a3",
        "_cell_guid": "94ac36d7-2290-4244-b969-16f6eb2e25e7",
        "trusted": false,
        "collapsed": true
      },
      "cell_type": "code",
      "source": "accident_dat.estimate_query_size(q2)",
      "execution_count": null,
      "outputs": []
    },
    {
      "metadata": {
        "_uuid": "03ba7e840ce82d9d4f78af152d7ffe8452c6f82e",
        "_cell_guid": "fbe2fbea-cd70-4b46-8e7c-f8dc4d75ba79",
        "collapsed": true,
        "trusted": false
      },
      "cell_type": "code",
      "source": "hit_and_run_state = accident_dat.query_to_pandas_safe(q2)",
      "execution_count": null,
      "outputs": []
    },
    {
      "metadata": {
        "_uuid": "c7272976822874c8fb8378e0c13c9101018c71d9",
        "_cell_guid": "c86ac6dd-1fef-4cd1-a948-cb6ecc1b0eee",
        "trusted": false,
        "collapsed": true
      },
      "cell_type": "code",
      "source": "hit_and_run_state",
      "execution_count": null,
      "outputs": []
    },
    {
      "metadata": {
        "_uuid": "9728eee96b17ded539e00323f046d5c60d15f53f",
        "_cell_guid": "88aa623b-458d-40d9-a3fe-4ee8443c6c4f"
      },
      "cell_type": "markdown",
      "source": "Then I just filter out the data for accidents know to not be hit and ru"
    },
    {
      "metadata": {
        "_uuid": "b59b034b92c7668199ba305307cbf3f9c42fc544",
        "_cell_guid": "0571cdd2-d096-4b91-8ba2-5ac1d0e1e69e",
        "collapsed": true,
        "trusted": false
      },
      "cell_type": "code",
      "source": "hits_state = hit_and_run_state[hit_and_run_state['hit_and_run']!= \"No\"]",
      "execution_count": null,
      "outputs": []
    },
    {
      "metadata": {
        "_uuid": "ed8bdd3ad9648fce29eda9b17fe27cb919e9c872",
        "_cell_guid": "0d2d8e05-53c0-47f9-ba58-8ca2a708e420"
      },
      "cell_type": "markdown",
      "source": "Unsuprisingly, the highest number of hit and runs appear to have unknown registrations... that is a sad stat because it likely means the people involved in these hit and runs fled the scene without their car being identified :( \n\nThe next four highest correspond with what I would reckon are the four largest states by population off the top of my head."
    },
    {
      "metadata": {
        "_uuid": "d2a504c21e51293105c08c3bc13f64ed86b961c8",
        "_cell_guid": "9ec868ee-6467-4711-8339-6da26a6e3686",
        "trusted": false,
        "collapsed": true
      },
      "cell_type": "code",
      "source": "hits_state",
      "execution_count": null,
      "outputs": []
    }
  ],
  "metadata": {
    "kernelspec": {
      "display_name": "Python 3",
      "language": "python",
      "name": "python3"
    },
    "language_info": {
      "version": "3.6.4",
      "codemirror_mode": {
        "version": 3,
        "name": "ipython"
      },
      "file_extension": ".py",
      "nbconvert_exporter": "python",
      "name": "python",
      "mimetype": "text/x-python",
      "pygments_lexer": "ipython3"
    }
  },
  "nbformat": 4,
  "nbformat_minor": 1
}