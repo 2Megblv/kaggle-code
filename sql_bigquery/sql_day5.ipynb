{
  "cells": [
    {
      "cell_type": "markdown",
      "metadata": {
        "_uuid": "962a174457bb0e20e94e9ef8547cc1ab54e757a4"
      },
      "source": [
        "# Day 5 SQL homework - joins\n",
        "## How many commits have been made in repos written in the Python programming language?\n",
        "- commits in  the \"sample_commits\" table\n",
        "- number of commits per repo for all the repos written in Python.\n",
        "- JOIN the sample_files and sample_commits \n",
        "\n",
        "Hint: You can figure out which files are written in Python by filtering results from the \"sample_files\" table using WHERE path LIKE '%.py'. This will return results where the \"path\" column ends in the text \".py\", which is one way to identify which files have Python code."
      ]
    },
    {
      "cell_type": "code",
      "execution_count": 1,
      "metadata": {
        "_cell_guid": "b26e6dac-bcdd-46a5-acac-f2b4924dba62",
        "_uuid": "2c43f89ffdf0cfdbf4e951722984644917e60b3c",
        "collapsed": true
      },
      "outputs": [],
      "source": [
        "import pandas as pd\n",
        "import bq_helper\n"
      ]
    },
    {
      "cell_type": "code",
      "execution_count": 2,
      "metadata": {
        "collapsed": true,
        "_uuid": "b7d0079debf03e4a6f68e6c31bb64ca40462d70f"
      },
      "outputs": [],
      "source": [
        "github = bq_helper.BigQueryHelper(active_project=\"bigquery-public-data\",\n",
        "                                dataset_name=\"github_repos\")"
      ]
    },
    {
      "cell_type": "code",
      "execution_count": 3,
      "metadata": {
        "_uuid": "70353c5e832a822129e9b9b88bbe36dc262c655a"
      },
      "outputs": [
        {
          "data": {
            "text/plain": [
              "['commits',\n",
              " 'contents',\n",
              " 'files',\n",
              " 'languages',\n",
              " 'licenses',\n",
              " 'sample_commits',\n",
              " 'sample_contents',\n",
              " 'sample_files',\n",
              " 'sample_repos']"
            ]
          },
          "execution_count": 3,
          "metadata": {},
          "output_type": "execute_result"
        }
      ],
      "source": [
        "github.list_tables()"
      ]
    },
    {
      "cell_type": "code",
      "execution_count": 7,
      "metadata": {
        "_uuid": "1710fe1cec8d1af0d81eaee513474d9ebbd4a69c"
      },
      "outputs": [
        {
          "data": {
            "text/html": [
              "<div>\n",
              "<style>\n",
              "    .dataframe thead tr:only-child th {\n",
              "        text-align: right;\n",
              "    }\n",
              "\n",
              "    .dataframe thead th {\n",
              "        text-align: left;\n",
              "    }\n",
              "\n",
              "    .dataframe tbody tr th {\n",
              "        vertical-align: top;\n",
              "    }\n",
              "</style>\n",
              "<table border=\"1\" class=\"dataframe\">\n",
              "  <thead>\n",
              "    <tr style=\"text-align: right;\">\n",
              "      <th></th>\n",
              "      <th>repo_name</th>\n",
              "      <th>ref</th>\n",
              "      <th>path</th>\n",
              "      <th>mode</th>\n",
              "      <th>id</th>\n",
              "      <th>symlink_target</th>\n",
              "    </tr>\n",
              "  </thead>\n",
              "  <tbody>\n",
              "    <tr>\n",
              "      <th>0</th>\n",
              "      <td>git/git</td>\n",
              "      <td>refs/heads/master</td>\n",
              "      <td>RelNotes</td>\n",
              "      <td>40960</td>\n",
              "      <td>62615ffa4e97803da96aefbc798ab50f949a8db7</td>\n",
              "      <td>Documentation/RelNotes/2.10.0.txt</td>\n",
              "    </tr>\n",
              "    <tr>\n",
              "      <th>1</th>\n",
              "      <td>np/ling</td>\n",
              "      <td>refs/heads/master</td>\n",
              "      <td>tests/success/plug_compose.t/plug_compose.ll</td>\n",
              "      <td>40960</td>\n",
              "      <td>0c1605e4b447158085656487dc477f7670c4bac1</td>\n",
              "      <td>../../../fixtures/all/plug_compose.ll</td>\n",
              "    </tr>\n",
              "    <tr>\n",
              "      <th>2</th>\n",
              "      <td>np/ling</td>\n",
              "      <td>refs/heads/master</td>\n",
              "      <td>fixtures/strict-par-success/parallel_assoc_lef...</td>\n",
              "      <td>40960</td>\n",
              "      <td>b59bff84ec03d12fabd3b51a27ed7e39a180097e</td>\n",
              "      <td>../all/parallel_assoc_left.ll</td>\n",
              "    </tr>\n",
              "    <tr>\n",
              "      <th>3</th>\n",
              "      <td>np/ling</td>\n",
              "      <td>refs/heads/master</td>\n",
              "      <td>fixtures/sequence/parallel_assoc_2tensor2_left.ll</td>\n",
              "      <td>40960</td>\n",
              "      <td>f29523e3fb65702d99478e429eac6f801f32152b</td>\n",
              "      <td>../all/parallel_assoc_2tensor2_left.ll</td>\n",
              "    </tr>\n",
              "    <tr>\n",
              "      <th>4</th>\n",
              "      <td>np/ling</td>\n",
              "      <td>refs/heads/master</td>\n",
              "      <td>fixtures/success/my_dual.ll</td>\n",
              "      <td>40960</td>\n",
              "      <td>38a3af095088f90dfc956cb990e893909c3ab286</td>\n",
              "      <td>../all/my_dual.ll</td>\n",
              "    </tr>\n",
              "  </tbody>\n",
              "</table>\n",
              "</div>"
            ],
            "text/plain": [
              "  repo_name                ref  \\\n",
              "0   git/git  refs/heads/master   \n",
              "1   np/ling  refs/heads/master   \n",
              "2   np/ling  refs/heads/master   \n",
              "3   np/ling  refs/heads/master   \n",
              "4   np/ling  refs/heads/master   \n",
              "\n",
              "                                                path   mode  \\\n",
              "0                                           RelNotes  40960   \n",
              "1       tests/success/plug_compose.t/plug_compose.ll  40960   \n",
              "2  fixtures/strict-par-success/parallel_assoc_lef...  40960   \n",
              "3  fixtures/sequence/parallel_assoc_2tensor2_left.ll  40960   \n",
              "4                        fixtures/success/my_dual.ll  40960   \n",
              "\n",
              "                                         id  \\\n",
              "0  62615ffa4e97803da96aefbc798ab50f949a8db7   \n",
              "1  0c1605e4b447158085656487dc477f7670c4bac1   \n",
              "2  b59bff84ec03d12fabd3b51a27ed7e39a180097e   \n",
              "3  f29523e3fb65702d99478e429eac6f801f32152b   \n",
              "4  38a3af095088f90dfc956cb990e893909c3ab286   \n",
              "\n",
              "                           symlink_target  \n",
              "0       Documentation/RelNotes/2.10.0.txt  \n",
              "1   ../../../fixtures/all/plug_compose.ll  \n",
              "2           ../all/parallel_assoc_left.ll  \n",
              "3  ../all/parallel_assoc_2tensor2_left.ll  \n",
              "4                       ../all/my_dual.ll  "
            ]
          },
          "execution_count": 7,
          "metadata": {},
          "output_type": "execute_result"
        }
      ],
      "source": [
        "github.head('sample_files')"
      ]
    },
    {
      "cell_type": "code",
      "execution_count": 6,
      "metadata": {
        "_uuid": "3c24aa274f1207540f63491f0bf37af0241fdd63"
      },
      "outputs": [
        {
          "data": {
            "text/html": [
              "<div>\n",
              "<style>\n",
              "    .dataframe thead tr:only-child th {\n",
              "        text-align: right;\n",
              "    }\n",
              "\n",
              "    .dataframe thead th {\n",
              "        text-align: left;\n",
              "    }\n",
              "\n",
              "    .dataframe tbody tr th {\n",
              "        vertical-align: top;\n",
              "    }\n",
              "</style>\n",
              "<table border=\"1\" class=\"dataframe\">\n",
              "  <thead>\n",
              "    <tr style=\"text-align: right;\">\n",
              "      <th></th>\n",
              "      <th>commit</th>\n",
              "      <th>tree</th>\n",
              "      <th>parent</th>\n",
              "      <th>author</th>\n",
              "      <th>committer</th>\n",
              "      <th>subject</th>\n",
              "      <th>message</th>\n",
              "      <th>trailer</th>\n",
              "      <th>difference</th>\n",
              "      <th>difference_truncated</th>\n",
              "      <th>repo_name</th>\n",
              "      <th>encoding</th>\n",
              "    </tr>\n",
              "  </thead>\n",
              "  <tbody>\n",
              "    <tr>\n",
              "      <th>0</th>\n",
              "      <td>3eca86e75ec7a7d4b9a9c8091b11676f7bd2a39f</td>\n",
              "      <td>8e1b4380409a85a922ee0d3f622b5dd4d16bcfad</td>\n",
              "      <td>[104a0c02e8b1936c049e18a6d4e4ab040fb61213]</td>\n",
              "      <td>{'name': 'Mark Rutland', 'email': '1db9dd262be...</td>\n",
              "      <td>{'name': 'Catalin Marinas', 'email': '15ce75b2...</td>\n",
              "      <td>arm64: Remove fixmap include fragility</td>\n",
              "      <td>arm64: Remove fixmap include fragility\\n\\nThe ...</td>\n",
              "      <td>[{'key': 'Signed-off-by', 'value': 'Mark Rutla...</td>\n",
              "      <td>[{'old_mode': 33188, 'new_mode': 33188, 'old_p...</td>\n",
              "      <td>None</td>\n",
              "      <td>torvalds/linux</td>\n",
              "      <td>None</td>\n",
              "    </tr>\n",
              "    <tr>\n",
              "      <th>1</th>\n",
              "      <td>7158627686f02319c50c8d9d78f75d4c8d126ff2</td>\n",
              "      <td>3b4d781bd966f07cad1b67b137f0ff8b89430e9a</td>\n",
              "      <td>[66aa8d6a145b6a66566b4fce219cc56c3d0e01c3]</td>\n",
              "      <td>{'name': 'Will Deacon', 'email': 'b913f13ef92a...</td>\n",
              "      <td>{'name': 'Catalin Marinas', 'email': '15ce75b2...</td>\n",
              "      <td>arm64: percpu: implement optimised pcpu access...</td>\n",
              "      <td>arm64: percpu: implement optimised pcpu access...</td>\n",
              "      <td>[{'key': 'Signed-off-by', 'value': 'Will Deaco...</td>\n",
              "      <td>[{'old_mode': 33188, 'new_mode': 33188, 'old_p...</td>\n",
              "      <td>None</td>\n",
              "      <td>torvalds/linux</td>\n",
              "      <td>None</td>\n",
              "    </tr>\n",
              "    <tr>\n",
              "      <th>2</th>\n",
              "      <td>9732cafd9dc0206479be919baf0067239f0a63ca</td>\n",
              "      <td>c8878035ac9cb6dce592957f12dc1723a583989d</td>\n",
              "      <td>[f3c003f72dfb2497056bcbb864885837a1968ed5]</td>\n",
              "      <td>{'name': 'Jiang Liu', 'email': 'c745fa7b96fe79...</td>\n",
              "      <td>{'name': 'Catalin Marinas', 'email': '15ce75b2...</td>\n",
              "      <td>arm64, jump label: optimize jump label impleme...</td>\n",
              "      <td>arm64, jump label: optimize jump label impleme...</td>\n",
              "      <td>[{'key': 'Reviewed-by', 'value': 'Will Deacon ...</td>\n",
              "      <td>[{'old_mode': 33188, 'new_mode': 33188, 'old_p...</td>\n",
              "      <td>None</td>\n",
              "      <td>torvalds/linux</td>\n",
              "      <td>None</td>\n",
              "    </tr>\n",
              "    <tr>\n",
              "      <th>3</th>\n",
              "      <td>4702abd3f9728893ad5b0f4389e1902588510459</td>\n",
              "      <td>32926e7c55ef585d9b9c174a0e5f9ed13ed6bf7e</td>\n",
              "      <td>[ddf28352b80c86754a6424e3a61e8bdf9213b3c7]</td>\n",
              "      <td>{'name': 'Nicolas Pitre', 'email': '408789a210...</td>\n",
              "      <td>{'name': 'Arnd Bergmann', 'email': 'f2c659f019...</td>\n",
              "      <td>ARM: mach-nuc93x: delete</td>\n",
              "      <td>ARM: mach-nuc93x: delete\\n\\nThis architecture ...</td>\n",
              "      <td>[{'key': 'Signed-off-by', 'value': 'Nicolas Pi...</td>\n",
              "      <td>[{'old_mode': 33188, 'new_mode': 33188, 'old_p...</td>\n",
              "      <td>None</td>\n",
              "      <td>torvalds/linux</td>\n",
              "      <td>None</td>\n",
              "    </tr>\n",
              "    <tr>\n",
              "      <th>4</th>\n",
              "      <td>57bd4b91a6cfc5bad4c5d829ef85293ea63643ea</td>\n",
              "      <td>2ffc2066eb7638e185663e9d849663403229d4e5</td>\n",
              "      <td>[f74c95c20bad8e183e41283475f68a3e7b247af4]</td>\n",
              "      <td>{'name': 'Ben Dooks', 'email': '1177f64998f284...</td>\n",
              "      <td>{'name': 'Ben Dooks', 'email': '1177f64998f284...</td>\n",
              "      <td>[ARM] S3C24XX: Movev udc headers to arch/arm/p...</td>\n",
              "      <td>[ARM] S3C24XX: Movev udc headers to arch/arm/p...</td>\n",
              "      <td>[{'key': 'Signed-off-by', 'value': 'Ben Dooks ...</td>\n",
              "      <td>[{'old_mode': 33188, 'new_mode': 33188, 'old_p...</td>\n",
              "      <td>None</td>\n",
              "      <td>torvalds/linux</td>\n",
              "      <td>None</td>\n",
              "    </tr>\n",
              "  </tbody>\n",
              "</table>\n",
              "</div>"
            ],
            "text/plain": [
              "                                     commit  \\\n",
              "0  3eca86e75ec7a7d4b9a9c8091b11676f7bd2a39f   \n",
              "1  7158627686f02319c50c8d9d78f75d4c8d126ff2   \n",
              "2  9732cafd9dc0206479be919baf0067239f0a63ca   \n",
              "3  4702abd3f9728893ad5b0f4389e1902588510459   \n",
              "4  57bd4b91a6cfc5bad4c5d829ef85293ea63643ea   \n",
              "\n",
              "                                       tree  \\\n",
              "0  8e1b4380409a85a922ee0d3f622b5dd4d16bcfad   \n",
              "1  3b4d781bd966f07cad1b67b137f0ff8b89430e9a   \n",
              "2  c8878035ac9cb6dce592957f12dc1723a583989d   \n",
              "3  32926e7c55ef585d9b9c174a0e5f9ed13ed6bf7e   \n",
              "4  2ffc2066eb7638e185663e9d849663403229d4e5   \n",
              "\n",
              "                                       parent  \\\n",
              "0  [104a0c02e8b1936c049e18a6d4e4ab040fb61213]   \n",
              "1  [66aa8d6a145b6a66566b4fce219cc56c3d0e01c3]   \n",
              "2  [f3c003f72dfb2497056bcbb864885837a1968ed5]   \n",
              "3  [ddf28352b80c86754a6424e3a61e8bdf9213b3c7]   \n",
              "4  [f74c95c20bad8e183e41283475f68a3e7b247af4]   \n",
              "\n",
              "                                              author  \\\n",
              "0  {'name': 'Mark Rutland', 'email': '1db9dd262be...   \n",
              "1  {'name': 'Will Deacon', 'email': 'b913f13ef92a...   \n",
              "2  {'name': 'Jiang Liu', 'email': 'c745fa7b96fe79...   \n",
              "3  {'name': 'Nicolas Pitre', 'email': '408789a210...   \n",
              "4  {'name': 'Ben Dooks', 'email': '1177f64998f284...   \n",
              "\n",
              "                                           committer  \\\n",
              "0  {'name': 'Catalin Marinas', 'email': '15ce75b2...   \n",
              "1  {'name': 'Catalin Marinas', 'email': '15ce75b2...   \n",
              "2  {'name': 'Catalin Marinas', 'email': '15ce75b2...   \n",
              "3  {'name': 'Arnd Bergmann', 'email': 'f2c659f019...   \n",
              "4  {'name': 'Ben Dooks', 'email': '1177f64998f284...   \n",
              "\n",
              "                                             subject  \\\n",
              "0             arm64: Remove fixmap include fragility   \n",
              "1  arm64: percpu: implement optimised pcpu access...   \n",
              "2  arm64, jump label: optimize jump label impleme...   \n",
              "3                           ARM: mach-nuc93x: delete   \n",
              "4  [ARM] S3C24XX: Movev udc headers to arch/arm/p...   \n",
              "\n",
              "                                             message  \\\n",
              "0  arm64: Remove fixmap include fragility\\n\\nThe ...   \n",
              "1  arm64: percpu: implement optimised pcpu access...   \n",
              "2  arm64, jump label: optimize jump label impleme...   \n",
              "3  ARM: mach-nuc93x: delete\\n\\nThis architecture ...   \n",
              "4  [ARM] S3C24XX: Movev udc headers to arch/arm/p...   \n",
              "\n",
              "                                             trailer  \\\n",
              "0  [{'key': 'Signed-off-by', 'value': 'Mark Rutla...   \n",
              "1  [{'key': 'Signed-off-by', 'value': 'Will Deaco...   \n",
              "2  [{'key': 'Reviewed-by', 'value': 'Will Deacon ...   \n",
              "3  [{'key': 'Signed-off-by', 'value': 'Nicolas Pi...   \n",
              "4  [{'key': 'Signed-off-by', 'value': 'Ben Dooks ...   \n",
              "\n",
              "                                          difference difference_truncated  \\\n",
              "0  [{'old_mode': 33188, 'new_mode': 33188, 'old_p...                 None   \n",
              "1  [{'old_mode': 33188, 'new_mode': 33188, 'old_p...                 None   \n",
              "2  [{'old_mode': 33188, 'new_mode': 33188, 'old_p...                 None   \n",
              "3  [{'old_mode': 33188, 'new_mode': 33188, 'old_p...                 None   \n",
              "4  [{'old_mode': 33188, 'new_mode': 33188, 'old_p...                 None   \n",
              "\n",
              "        repo_name encoding  \n",
              "0  torvalds/linux     None  \n",
              "1  torvalds/linux     None  \n",
              "2  torvalds/linux     None  \n",
              "3  torvalds/linux     None  \n",
              "4  torvalds/linux     None  "
            ]
          },
          "execution_count": 6,
          "metadata": {},
          "output_type": "execute_result"
        }
      ],
      "source": [
        "github.head('sample_commits')"
      ]
    },
    {
      "cell_type": "code",
      "execution_count": 20,
      "metadata": {
        "collapsed": true,
        "_uuid": "3a129154f7071fe2a164bab82faf9912f9cde44a"
      },
      "outputs": [],
      "source": [
        "q = \"\"\"\n",
        "SELECT count(sc.commit) AS commit_count , sf.repo_name AS repository \n",
        "FROM `bigquery-public-data.github_repos.sample_commits` AS sc\n",
        "INNER JOIN `bigquery-public-data.github_repos.sample_files` AS sf\n",
        "ON sc.repo_name = sf.repo_name\n",
        "WHERE sf.path LIKE '%.py'\n",
        "GROUP BY repository\n",
        "ORDER BY commit_count DESC\n",
        "\"\"\""
      ]
    },
    {
      "cell_type": "code",
      "execution_count": 15,
      "metadata": {
        "_uuid": "bfa1e69651c289d10e99b5eee3f82f1165fb6ad2"
      },
      "outputs": [
        {
          "data": {
            "text/plain": [
              "5.271098022349179"
            ]
          },
          "execution_count": 15,
          "metadata": {},
          "output_type": "execute_result"
        }
      ],
      "source": [
        "github.estimate_query_size(q)"
      ]
    },
    {
      "cell_type": "code",
      "execution_count": null,
      "metadata": {
        "_uuid": "cc4047d95556c0194770f2e3f3c62742b4183037"
      },
      "outputs": [],
      "source": [
        "python_rep = github.query_to_pandas_safe(q, max_gb_scanned=6)"
      ]
    },
    {
      "cell_type": "code",
      "execution_count": null,
      "metadata": {
        "_uuid": "93fb9ad737890287a1d2c04798c981ae6680d1ca"
      },
      "outputs": [],
      "source": [
        "python_rep.head()"
      ]
    }
  ],
  "metadata": {
    "kernelspec": {
      "display_name": "Python 3",
      "language": "python",
      "name": "python3"
    },
    "language_info": {
      "codemirror_mode": {
        "name": "ipython",
        "version": 3
      },
      "file_extension": ".py",
      "mimetype": "text/x-python",
      "name": "python",
      "nbconvert_exporter": "python",
      "pygments_lexer": "ipython3",
      "version": "3.6.4"
    }
  },
  "nbformat": 4,
  "nbformat_minor": 1
}