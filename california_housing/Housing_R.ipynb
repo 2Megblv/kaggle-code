{
 "cells": [
  {
   "cell_type": "code",
   "execution_count": 1,
   "metadata": {},
   "outputs": [
    {
     "name": "stderr",
     "output_type": "stream",
     "text": [
      "Loading tidyverse: ggplot2\n",
      "Loading tidyverse: tibble\n",
      "Loading tidyverse: tidyr\n",
      "Loading tidyverse: readr\n",
      "Loading tidyverse: purrr\n",
      "Loading tidyverse: dplyr\n",
      "Conflicts with tidy packages ---------------------------------------------------\n",
      "filter(): dplyr, stats\n",
      "lag():    dplyr, stats\n",
      "\n",
      "Attaching package: ‘reshape2’\n",
      "\n",
      "The following object is masked from ‘package:tidyr’:\n",
      "\n",
      "    smiths\n",
      "\n"
     ]
    }
   ],
   "source": [
    "library(tidyverse)\n",
    "library(reshape2)"
   ]
  },
  {
   "cell_type": "markdown",
   "metadata": {},
   "source": [
    "# Machine learning tutorial: R users group edition\n",
    "\n",
    "We are using the data from chapter 2 of this book: https://github.com/ageron/handson-ml\n",
    "\n",
    "Here I have 'translated' (and heavily abridged) the code from python into R so that it can be used as a good intro example for how to implement some machine learning algorithms. The workflow isn't exactly the same as the book but the data arrives cleaned at roughly the same point. \n",
    "\n",
    "I've chosen this dataset because:\n",
    "1. It is freely avaliable online so we won't get sued.\n",
    "2. It is 'medium' sized. Not small enough to feel overly toyish, but not so big as to be cumbersome.\n",
    "3. There are a reasonable number of predictor columns, so it isn't too much to take in and understand what they all mean.\n",
    "\n",
    "The columns are as follows, their names are pretty self explanitory:\n",
    "\n",
    "longitude\n",
    "\n",
    "latitude\n",
    "\n",
    "housing_median_age\n",
    "\n",
    "total_rooms\n",
    "\n",
    "total_bedrooms\n",
    "\n",
    "population\n",
    "\n",
    "households\n",
    "\n",
    "median_income\n",
    "\n",
    "median_house_value\n",
    "\n",
    "ocean_proximity\n",
    "\n",
    "Each row pertains to a group of houses (I forget if this is by block or postal code but the important bit is they are medians because it is a bunch of houses in close proximity grouped together).\n",
    "\n",
    "# GOAL: Make a model to predict median house value for a district based on the other data we are given.\n",
    "\n",
    "## Step 1. Load in the data.\n",
    "\n",
    "If you missed the email link, download 'housing.csv' from here:\n",
    "https://github.com/ageron/handson-ml/tree/master/datasets/housing\n",
    "\n",
    "Then adjust the following code to your directory of choice."
   ]
  },
  {
   "cell_type": "code",
   "execution_count": 2,
   "metadata": {
    "collapsed": true
   },
   "outputs": [],
   "source": [
    "housing = read.csv('/Users/Cam/Desktop/Code/hands_on_maching_learning/supplemental/datasets/housing/housing.csv')"
   ]
  },
  {
   "cell_type": "markdown",
   "metadata": {},
   "source": [
    "First thing I always do is use the head command to make sure the data isn't weird and looks how I expected."
   ]
  },
  {
   "cell_type": "code",
   "execution_count": 3,
   "metadata": {},
   "outputs": [
    {
     "data": {
      "text/html": [
       "<table>\n",
       "<thead><tr><th scope=col>longitude</th><th scope=col>latitude</th><th scope=col>housing_median_age</th><th scope=col>total_rooms</th><th scope=col>total_bedrooms</th><th scope=col>population</th><th scope=col>households</th><th scope=col>median_income</th><th scope=col>median_house_value</th><th scope=col>ocean_proximity</th></tr></thead>\n",
       "<tbody>\n",
       "\t<tr><td>-122.23 </td><td>37.88   </td><td>41      </td><td> 880    </td><td> 129    </td><td> 322    </td><td> 126    </td><td>8.3252  </td><td>452600  </td><td>NEAR BAY</td></tr>\n",
       "\t<tr><td>-122.22 </td><td>37.86   </td><td>21      </td><td>7099    </td><td>1106    </td><td>2401    </td><td>1138    </td><td>8.3014  </td><td>358500  </td><td>NEAR BAY</td></tr>\n",
       "\t<tr><td>-122.24 </td><td>37.85   </td><td>52      </td><td>1467    </td><td> 190    </td><td> 496    </td><td> 177    </td><td>7.2574  </td><td>352100  </td><td>NEAR BAY</td></tr>\n",
       "\t<tr><td>-122.25 </td><td>37.85   </td><td>52      </td><td>1274    </td><td> 235    </td><td> 558    </td><td> 219    </td><td>5.6431  </td><td>341300  </td><td>NEAR BAY</td></tr>\n",
       "\t<tr><td>-122.25 </td><td>37.85   </td><td>52      </td><td>1627    </td><td> 280    </td><td> 565    </td><td> 259    </td><td>3.8462  </td><td>342200  </td><td>NEAR BAY</td></tr>\n",
       "\t<tr><td>-122.25 </td><td>37.85   </td><td>52      </td><td> 919    </td><td> 213    </td><td> 413    </td><td> 193    </td><td>4.0368  </td><td>269700  </td><td>NEAR BAY</td></tr>\n",
       "</tbody>\n",
       "</table>\n"
      ],
      "text/latex": [
       "\\begin{tabular}{r|llllllllll}\n",
       " longitude & latitude & housing\\_median\\_age & total\\_rooms & total\\_bedrooms & population & households & median\\_income & median\\_house\\_value & ocean\\_proximity\\\\\n",
       "\\hline\n",
       "\t -122.23  & 37.88    & 41       &  880     &  129     &  322     &  126     & 8.3252   & 452600   & NEAR BAY\\\\\n",
       "\t -122.22  & 37.86    & 21       & 7099     & 1106     & 2401     & 1138     & 8.3014   & 358500   & NEAR BAY\\\\\n",
       "\t -122.24  & 37.85    & 52       & 1467     &  190     &  496     &  177     & 7.2574   & 352100   & NEAR BAY\\\\\n",
       "\t -122.25  & 37.85    & 52       & 1274     &  235     &  558     &  219     & 5.6431   & 341300   & NEAR BAY\\\\\n",
       "\t -122.25  & 37.85    & 52       & 1627     &  280     &  565     &  259     & 3.8462   & 342200   & NEAR BAY\\\\\n",
       "\t -122.25  & 37.85    & 52       &  919     &  213     &  413     &  193     & 4.0368   & 269700   & NEAR BAY\\\\\n",
       "\\end{tabular}\n"
      ],
      "text/markdown": [
       "\n",
       "longitude | latitude | housing_median_age | total_rooms | total_bedrooms | population | households | median_income | median_house_value | ocean_proximity | \n",
       "|---|---|---|---|---|---|\n",
       "| -122.23  | 37.88    | 41       |  880     |  129     |  322     |  126     | 8.3252   | 452600   | NEAR BAY | \n",
       "| -122.22  | 37.86    | 21       | 7099     | 1106     | 2401     | 1138     | 8.3014   | 358500   | NEAR BAY | \n",
       "| -122.24  | 37.85    | 52       | 1467     |  190     |  496     |  177     | 7.2574   | 352100   | NEAR BAY | \n",
       "| -122.25  | 37.85    | 52       | 1274     |  235     |  558     |  219     | 5.6431   | 341300   | NEAR BAY | \n",
       "| -122.25  | 37.85    | 52       | 1627     |  280     |  565     |  259     | 3.8462   | 342200   | NEAR BAY | \n",
       "| -122.25  | 37.85    | 52       |  919     |  213     |  413     |  193     | 4.0368   | 269700   | NEAR BAY | \n",
       "\n",
       "\n"
      ],
      "text/plain": [
       "  longitude latitude housing_median_age total_rooms total_bedrooms population\n",
       "1 -122.23   37.88    41                  880         129            322      \n",
       "2 -122.22   37.86    21                 7099        1106           2401      \n",
       "3 -122.24   37.85    52                 1467         190            496      \n",
       "4 -122.25   37.85    52                 1274         235            558      \n",
       "5 -122.25   37.85    52                 1627         280            565      \n",
       "6 -122.25   37.85    52                  919         213            413      \n",
       "  households median_income median_house_value ocean_proximity\n",
       "1  126       8.3252        452600             NEAR BAY       \n",
       "2 1138       8.3014        358500             NEAR BAY       \n",
       "3  177       7.2574        352100             NEAR BAY       \n",
       "4  219       5.6431        341300             NEAR BAY       \n",
       "5  259       3.8462        342200             NEAR BAY       \n",
       "6  193       4.0368        269700             NEAR BAY       "
      ]
     },
     "metadata": {},
     "output_type": "display_data"
    }
   ],
   "source": [
    "head(housing)"
   ]
  },
  {
   "cell_type": "markdown",
   "metadata": {},
   "source": [
    "Next I always call summary, just to see if the #s are #s and the categoricals are categoricals."
   ]
  },
  {
   "cell_type": "code",
   "execution_count": 4,
   "metadata": {},
   "outputs": [
    {
     "data": {
      "text/plain": [
       "   longitude         latitude     housing_median_age  total_rooms   \n",
       " Min.   :-124.3   Min.   :32.54   Min.   : 1.00      Min.   :    2  \n",
       " 1st Qu.:-121.8   1st Qu.:33.93   1st Qu.:18.00      1st Qu.: 1448  \n",
       " Median :-118.5   Median :34.26   Median :29.00      Median : 2127  \n",
       " Mean   :-119.6   Mean   :35.63   Mean   :28.64      Mean   : 2636  \n",
       " 3rd Qu.:-118.0   3rd Qu.:37.71   3rd Qu.:37.00      3rd Qu.: 3148  \n",
       " Max.   :-114.3   Max.   :41.95   Max.   :52.00      Max.   :39320  \n",
       "                                                                    \n",
       " total_bedrooms     population      households     median_income    \n",
       " Min.   :   1.0   Min.   :    3   Min.   :   1.0   Min.   : 0.4999  \n",
       " 1st Qu.: 296.0   1st Qu.:  787   1st Qu.: 280.0   1st Qu.: 2.5634  \n",
       " Median : 435.0   Median : 1166   Median : 409.0   Median : 3.5348  \n",
       " Mean   : 537.9   Mean   : 1425   Mean   : 499.5   Mean   : 3.8707  \n",
       " 3rd Qu.: 647.0   3rd Qu.: 1725   3rd Qu.: 605.0   3rd Qu.: 4.7432  \n",
       " Max.   :6445.0   Max.   :35682   Max.   :6082.0   Max.   :15.0001  \n",
       " NA's   :207                                                        \n",
       " median_house_value   ocean_proximity\n",
       " Min.   : 14999     <1H OCEAN :9136  \n",
       " 1st Qu.:119600     INLAND    :6551  \n",
       " Median :179700     ISLAND    :   5  \n",
       " Mean   :206856     NEAR BAY  :2290  \n",
       " 3rd Qu.:264725     NEAR OCEAN:2658  \n",
       " Max.   :500001                      \n",
       "                                     "
      ]
     },
     "metadata": {},
     "output_type": "display_data"
    }
   ],
   "source": [
    "summary(housing)"
   ]
  },
  {
   "cell_type": "markdown",
   "metadata": {
    "collapsed": true
   },
   "source": [
    "### Begin making a cleaning to do list\n",
    "So from that summary we can see a few things we need to do before actually running algorithms.\n",
    "\n",
    "1. NA's in total_bedrooms need to be addressed. These must be given a value\n",
    "2. We will split the ocean_proximity into binary columns. Most machine learning algorithms in R can handle categoricals in a single column, but we will cater to the lowest common denominator and do the splitting.\n",
    "3. Make the total_bedrooms and total_rooms into a mean_number_bedrooms and mean_number_rooms columns as there are likely more accurate depections of the houses in a given group.\n"
   ]
  },
  {
   "cell_type": "markdown",
   "metadata": {},
   "source": [
    "Lets take a gander at the variables"
   ]
  },
  {
   "cell_type": "code",
   "execution_count": 7,
   "metadata": {},
   "outputs": [
    {
     "data": {
      "text/html": [
       "<ol class=list-inline>\n",
       "\t<li>'longitude'</li>\n",
       "\t<li>'latitude'</li>\n",
       "\t<li>'housing_median_age'</li>\n",
       "\t<li>'total_rooms'</li>\n",
       "\t<li>'total_bedrooms'</li>\n",
       "\t<li>'population'</li>\n",
       "\t<li>'households'</li>\n",
       "\t<li>'median_income'</li>\n",
       "\t<li>'median_house_value'</li>\n",
       "\t<li>'ocean_proximity'</li>\n",
       "</ol>\n"
      ],
      "text/latex": [
       "\\begin{enumerate*}\n",
       "\\item 'longitude'\n",
       "\\item 'latitude'\n",
       "\\item 'housing\\_median\\_age'\n",
       "\\item 'total\\_rooms'\n",
       "\\item 'total\\_bedrooms'\n",
       "\\item 'population'\n",
       "\\item 'households'\n",
       "\\item 'median\\_income'\n",
       "\\item 'median\\_house\\_value'\n",
       "\\item 'ocean\\_proximity'\n",
       "\\end{enumerate*}\n"
      ],
      "text/markdown": [
       "1. 'longitude'\n",
       "2. 'latitude'\n",
       "3. 'housing_median_age'\n",
       "4. 'total_rooms'\n",
       "5. 'total_bedrooms'\n",
       "6. 'population'\n",
       "7. 'households'\n",
       "8. 'median_income'\n",
       "9. 'median_house_value'\n",
       "10. 'ocean_proximity'\n",
       "\n",
       "\n"
      ],
      "text/plain": [
       " [1] \"longitude\"          \"latitude\"           \"housing_median_age\"\n",
       " [4] \"total_rooms\"        \"total_bedrooms\"     \"population\"        \n",
       " [7] \"households\"         \"median_income\"      \"median_house_value\"\n",
       "[10] \"ocean_proximity\"   "
      ]
     },
     "metadata": {},
     "output_type": "display_data"
    }
   ],
   "source": [
    "colnames(housing)"
   ]
  },
  {
   "cell_type": "code",
   "execution_count": 8,
   "metadata": {
    "collapsed": true
   },
   "outputs": [],
   "source": [
    "par(mfrow=c(2,5))"
   ]
  },
  {
   "cell_type": "code",
   "execution_count": 9,
   "metadata": {},
   "outputs": [
    {
     "name": "stderr",
     "output_type": "stream",
     "text": [
      "Using ocean_proximity as id variables\n",
      "Warning message:\n",
      "“Removed 207 rows containing non-finite values (stat_bin).”"
     ]
    },
    {
     "data": {},
     "metadata": {},
     "output_type": "display_data"
    },
    {
     "data": {
      "image/png": "[encoded data removed]",
      "text/plain": [
       "plot without title"
      ]
     },
     "metadata": {},
     "output_type": "display_data"
    }
   ],
   "source": [
    "ggplot(data = melt(housing), mapping = aes(x = value)) + \n",
    "    geom_histogram(bins = 30) + facet_wrap(~variable, scales = 'free_x')"
   ]
  },
  {
   "cell_type": "markdown",
   "metadata": {},
   "source": [
    "Things I see from this:\n",
    "1. There are some housing blocks with old age homes in them.\n",
    "2. The median house value has some weird cap applied to it causing there to be a blip at the rightmost point on the hist. There are most definitely houses in the bay area worth more than 500,000... even in the 90s when this data was collected!\n",
    "3. We should standardize the scale of the data for any non-tree based methods. As some of the variables range from 0-10, while others go up to 500,000\n",
    "4. We need to think about how the cap on housing prices can affect our prediction... may be worth removing the capped values and only working with the data we are confident in."
   ]
  },
  {
   "cell_type": "markdown",
   "metadata": {},
   "source": [
    "## Step 2. Clean the data\n",
    "\n",
    "### Impute missing values\n",
    "Fill median for total_bedrooms which is the only column with missing values. The median is used instead of mean because it is less influenced by extreme outliers. Note this may not be the best, as these could be actual buildings with no bedrooms (warehouses or something). We don't know... but imputation is often the best of a bad job"
   ]
  },
  {
   "cell_type": "code",
   "execution_count": 10,
   "metadata": {
    "collapsed": true
   },
   "outputs": [],
   "source": [
    "housing$total_bedrooms[is.na(housing$total_bedrooms)] = median(housing$total_bedrooms , na.rm = TRUE)"
   ]
  },
  {
   "cell_type": "markdown",
   "metadata": {},
   "source": [
    "### Fix the total columns - make them means\n",
    "\n",
    "### If you're good at the tidyverse show me the way to make this better!"
   ]
  },
  {
   "cell_type": "code",
   "execution_count": 11,
   "metadata": {
    "collapsed": true
   },
   "outputs": [],
   "source": [
    "housing$mean_bedrooms = housing$total_bedrooms/housing$households\n",
    "housing$mean_rooms = housing$total_rooms/housing$households\n",
    "\n",
    "drops = c('total_bedrooms', 'total_rooms')\n",
    "\n",
    "housing = housing[ , !(names(housing) %in% drops)]"
   ]
  },
  {
   "cell_type": "code",
   "execution_count": 12,
   "metadata": {},
   "outputs": [
    {
     "data": {
      "text/html": [
       "<table>\n",
       "<thead><tr><th scope=col>longitude</th><th scope=col>latitude</th><th scope=col>housing_median_age</th><th scope=col>population</th><th scope=col>households</th><th scope=col>median_income</th><th scope=col>median_house_value</th><th scope=col>ocean_proximity</th><th scope=col>mean_bedrooms</th><th scope=col>mean_rooms</th></tr></thead>\n",
       "<tbody>\n",
       "\t<tr><td>-122.23  </td><td>37.88    </td><td>41       </td><td> 322     </td><td> 126     </td><td>8.3252   </td><td>452600   </td><td>NEAR BAY </td><td>1.0238095</td><td>6.984127 </td></tr>\n",
       "\t<tr><td>-122.22  </td><td>37.86    </td><td>21       </td><td>2401     </td><td>1138     </td><td>8.3014   </td><td>358500   </td><td>NEAR BAY </td><td>0.9718805</td><td>6.238137 </td></tr>\n",
       "\t<tr><td>-122.24  </td><td>37.85    </td><td>52       </td><td> 496     </td><td> 177     </td><td>7.2574   </td><td>352100   </td><td>NEAR BAY </td><td>1.0734463</td><td>8.288136 </td></tr>\n",
       "\t<tr><td>-122.25  </td><td>37.85    </td><td>52       </td><td> 558     </td><td> 219     </td><td>5.6431   </td><td>341300   </td><td>NEAR BAY </td><td>1.0730594</td><td>5.817352 </td></tr>\n",
       "\t<tr><td>-122.25  </td><td>37.85    </td><td>52       </td><td> 565     </td><td> 259     </td><td>3.8462   </td><td>342200   </td><td>NEAR BAY </td><td>1.0810811</td><td>6.281853 </td></tr>\n",
       "\t<tr><td>-122.25  </td><td>37.85    </td><td>52       </td><td> 413     </td><td> 193     </td><td>4.0368   </td><td>269700   </td><td>NEAR BAY </td><td>1.1036269</td><td>4.761658 </td></tr>\n",
       "</tbody>\n",
       "</table>\n"
      ],
      "text/latex": [
       "\\begin{tabular}{r|llllllllll}\n",
       " longitude & latitude & housing\\_median\\_age & population & households & median\\_income & median\\_house\\_value & ocean\\_proximity & mean\\_bedrooms & mean\\_rooms\\\\\n",
       "\\hline\n",
       "\t -122.23   & 37.88     & 41        &  322      &  126      & 8.3252    & 452600    & NEAR BAY  & 1.0238095 & 6.984127 \\\\\n",
       "\t -122.22   & 37.86     & 21        & 2401      & 1138      & 8.3014    & 358500    & NEAR BAY  & 0.9718805 & 6.238137 \\\\\n",
       "\t -122.24   & 37.85     & 52        &  496      &  177      & 7.2574    & 352100    & NEAR BAY  & 1.0734463 & 8.288136 \\\\\n",
       "\t -122.25   & 37.85     & 52        &  558      &  219      & 5.6431    & 341300    & NEAR BAY  & 1.0730594 & 5.817352 \\\\\n",
       "\t -122.25   & 37.85     & 52        &  565      &  259      & 3.8462    & 342200    & NEAR BAY  & 1.0810811 & 6.281853 \\\\\n",
       "\t -122.25   & 37.85     & 52        &  413      &  193      & 4.0368    & 269700    & NEAR BAY  & 1.1036269 & 4.761658 \\\\\n",
       "\\end{tabular}\n"
      ],
      "text/markdown": [
       "\n",
       "longitude | latitude | housing_median_age | population | households | median_income | median_house_value | ocean_proximity | mean_bedrooms | mean_rooms | \n",
       "|---|---|---|---|---|---|\n",
       "| -122.23   | 37.88     | 41        |  322      |  126      | 8.3252    | 452600    | NEAR BAY  | 1.0238095 | 6.984127  | \n",
       "| -122.22   | 37.86     | 21        | 2401      | 1138      | 8.3014    | 358500    | NEAR BAY  | 0.9718805 | 6.238137  | \n",
       "| -122.24   | 37.85     | 52        |  496      |  177      | 7.2574    | 352100    | NEAR BAY  | 1.0734463 | 8.288136  | \n",
       "| -122.25   | 37.85     | 52        |  558      |  219      | 5.6431    | 341300    | NEAR BAY  | 1.0730594 | 5.817352  | \n",
       "| -122.25   | 37.85     | 52        |  565      |  259      | 3.8462    | 342200    | NEAR BAY  | 1.0810811 | 6.281853  | \n",
       "| -122.25   | 37.85     | 52        |  413      |  193      | 4.0368    | 269700    | NEAR BAY  | 1.1036269 | 4.761658  | \n",
       "\n",
       "\n"
      ],
      "text/plain": [
       "  longitude latitude housing_median_age population households median_income\n",
       "1 -122.23   37.88    41                  322        126       8.3252       \n",
       "2 -122.22   37.86    21                 2401       1138       8.3014       \n",
       "3 -122.24   37.85    52                  496        177       7.2574       \n",
       "4 -122.25   37.85    52                  558        219       5.6431       \n",
       "5 -122.25   37.85    52                  565        259       3.8462       \n",
       "6 -122.25   37.85    52                  413        193       4.0368       \n",
       "  median_house_value ocean_proximity mean_bedrooms mean_rooms\n",
       "1 452600             NEAR BAY        1.0238095     6.984127  \n",
       "2 358500             NEAR BAY        0.9718805     6.238137  \n",
       "3 352100             NEAR BAY        1.0734463     8.288136  \n",
       "4 341300             NEAR BAY        1.0730594     5.817352  \n",
       "5 342200             NEAR BAY        1.0810811     6.281853  \n",
       "6 269700             NEAR BAY        1.1036269     4.761658  "
      ]
     },
     "metadata": {},
     "output_type": "display_data"
    }
   ],
   "source": [
    "head(housing)"
   ]
  },
  {
   "cell_type": "markdown",
   "metadata": {},
   "source": [
    "### Turn categoricals into booleans\n",
    "\n",
    "Below I do the following:\n",
    "1. Get a list of all the categories in the 'ocean_proximity' column\n",
    "2. Make a new empty dataframe of all 0s, where each category is its own colum\n",
    "3. Use a for loop to populate the appropriate columns of the dataframe\n",
    "4. Drop the original column from the dataframe.\n",
    "\n",
    "Note: there are probably way cleaner ways to do this in R... but Karl always asks about what I mean when I say I code R like it is python, and this is an example of what that looks like.\n",
    "\n",
    "Fun follow up task: can you turn this into a function that could be used to split any categorial column?\n",
    "\n",
    "#### CAM REMEMBER TO DRAW THIS ON THE WHITEBOARD FOR PEEPS IF POSSIBLE"
   ]
  },
  {
   "cell_type": "code",
   "execution_count": 13,
   "metadata": {
    "collapsed": true
   },
   "outputs": [],
   "source": [
    "categories = unique(housing$ocean_proximity)\n",
    "#split the categories off\n",
    "cat_housing = data.frame(ocean_proximity = housing$ocean_proximity)\n"
   ]
  },
  {
   "cell_type": "code",
   "execution_count": 14,
   "metadata": {},
   "outputs": [
    {
     "data": {
      "text/html": [
       "<table>\n",
       "<thead><tr><th scope=col>ocean_proximity</th><th scope=col>NEAR BAY</th><th scope=col>&lt;1H OCEAN</th><th scope=col>INLAND</th><th scope=col>NEAR OCEAN</th><th scope=col>ISLAND</th></tr></thead>\n",
       "<tbody>\n",
       "\t<tr><td>NEAR BAY</td><td>0       </td><td>0       </td><td>0       </td><td>0       </td><td>0       </td></tr>\n",
       "\t<tr><td>NEAR BAY</td><td>0       </td><td>0       </td><td>0       </td><td>0       </td><td>0       </td></tr>\n",
       "\t<tr><td>NEAR BAY</td><td>0       </td><td>0       </td><td>0       </td><td>0       </td><td>0       </td></tr>\n",
       "\t<tr><td>NEAR BAY</td><td>0       </td><td>0       </td><td>0       </td><td>0       </td><td>0       </td></tr>\n",
       "\t<tr><td>NEAR BAY</td><td>0       </td><td>0       </td><td>0       </td><td>0       </td><td>0       </td></tr>\n",
       "\t<tr><td>NEAR BAY</td><td>0       </td><td>0       </td><td>0       </td><td>0       </td><td>0       </td></tr>\n",
       "</tbody>\n",
       "</table>\n"
      ],
      "text/latex": [
       "\\begin{tabular}{r|llllll}\n",
       " ocean\\_proximity & NEAR BAY & <1H OCEAN & INLAND & NEAR OCEAN & ISLAND\\\\\n",
       "\\hline\n",
       "\t NEAR BAY & 0        & 0        & 0        & 0        & 0       \\\\\n",
       "\t NEAR BAY & 0        & 0        & 0        & 0        & 0       \\\\\n",
       "\t NEAR BAY & 0        & 0        & 0        & 0        & 0       \\\\\n",
       "\t NEAR BAY & 0        & 0        & 0        & 0        & 0       \\\\\n",
       "\t NEAR BAY & 0        & 0        & 0        & 0        & 0       \\\\\n",
       "\t NEAR BAY & 0        & 0        & 0        & 0        & 0       \\\\\n",
       "\\end{tabular}\n"
      ],
      "text/markdown": [
       "\n",
       "ocean_proximity | NEAR BAY | <1H OCEAN | INLAND | NEAR OCEAN | ISLAND | \n",
       "|---|---|---|---|---|---|\n",
       "| NEAR BAY | 0        | 0        | 0        | 0        | 0        | \n",
       "| NEAR BAY | 0        | 0        | 0        | 0        | 0        | \n",
       "| NEAR BAY | 0        | 0        | 0        | 0        | 0        | \n",
       "| NEAR BAY | 0        | 0        | 0        | 0        | 0        | \n",
       "| NEAR BAY | 0        | 0        | 0        | 0        | 0        | \n",
       "| NEAR BAY | 0        | 0        | 0        | 0        | 0        | \n",
       "\n",
       "\n"
      ],
      "text/plain": [
       "  ocean_proximity NEAR BAY <1H OCEAN INLAND NEAR OCEAN ISLAND\n",
       "1 NEAR BAY        0        0         0      0          0     \n",
       "2 NEAR BAY        0        0         0      0          0     \n",
       "3 NEAR BAY        0        0         0      0          0     \n",
       "4 NEAR BAY        0        0         0      0          0     \n",
       "5 NEAR BAY        0        0         0      0          0     \n",
       "6 NEAR BAY        0        0         0      0          0     "
      ]
     },
     "metadata": {},
     "output_type": "display_data"
    }
   ],
   "source": [
    "for(cat in categories){\n",
    "    cat_housing[,cat] = rep(0, times= nrow(cat_housing))\n",
    "}\n",
    "head(cat_housing) #see the new columns on the right"
   ]
  },
  {
   "cell_type": "code",
   "execution_count": 15,
   "metadata": {},
   "outputs": [
    {
     "data": {
      "text/html": [
       "<table>\n",
       "<thead><tr><th scope=col>ocean_proximity</th><th scope=col>NEAR BAY</th><th scope=col>&lt;1H OCEAN</th><th scope=col>INLAND</th><th scope=col>NEAR OCEAN</th><th scope=col>ISLAND</th></tr></thead>\n",
       "<tbody>\n",
       "\t<tr><td>NEAR BAY</td><td>1       </td><td>0       </td><td>0       </td><td>0       </td><td>0       </td></tr>\n",
       "\t<tr><td>NEAR BAY</td><td>1       </td><td>0       </td><td>0       </td><td>0       </td><td>0       </td></tr>\n",
       "\t<tr><td>NEAR BAY</td><td>1       </td><td>0       </td><td>0       </td><td>0       </td><td>0       </td></tr>\n",
       "\t<tr><td>NEAR BAY</td><td>1       </td><td>0       </td><td>0       </td><td>0       </td><td>0       </td></tr>\n",
       "\t<tr><td>NEAR BAY</td><td>1       </td><td>0       </td><td>0       </td><td>0       </td><td>0       </td></tr>\n",
       "\t<tr><td>NEAR BAY</td><td>1       </td><td>0       </td><td>0       </td><td>0       </td><td>0       </td></tr>\n",
       "</tbody>\n",
       "</table>\n"
      ],
      "text/latex": [
       "\\begin{tabular}{r|llllll}\n",
       " ocean\\_proximity & NEAR BAY & <1H OCEAN & INLAND & NEAR OCEAN & ISLAND\\\\\n",
       "\\hline\n",
       "\t NEAR BAY & 1        & 0        & 0        & 0        & 0       \\\\\n",
       "\t NEAR BAY & 1        & 0        & 0        & 0        & 0       \\\\\n",
       "\t NEAR BAY & 1        & 0        & 0        & 0        & 0       \\\\\n",
       "\t NEAR BAY & 1        & 0        & 0        & 0        & 0       \\\\\n",
       "\t NEAR BAY & 1        & 0        & 0        & 0        & 0       \\\\\n",
       "\t NEAR BAY & 1        & 0        & 0        & 0        & 0       \\\\\n",
       "\\end{tabular}\n"
      ],
      "text/markdown": [
       "\n",
       "ocean_proximity | NEAR BAY | <1H OCEAN | INLAND | NEAR OCEAN | ISLAND | \n",
       "|---|---|---|---|---|---|\n",
       "| NEAR BAY | 1        | 0        | 0        | 0        | 0        | \n",
       "| NEAR BAY | 1        | 0        | 0        | 0        | 0        | \n",
       "| NEAR BAY | 1        | 0        | 0        | 0        | 0        | \n",
       "| NEAR BAY | 1        | 0        | 0        | 0        | 0        | \n",
       "| NEAR BAY | 1        | 0        | 0        | 0        | 0        | \n",
       "| NEAR BAY | 1        | 0        | 0        | 0        | 0        | \n",
       "\n",
       "\n"
      ],
      "text/plain": [
       "  ocean_proximity NEAR BAY <1H OCEAN INLAND NEAR OCEAN ISLAND\n",
       "1 NEAR BAY        1        0         0      0          0     \n",
       "2 NEAR BAY        1        0         0      0          0     \n",
       "3 NEAR BAY        1        0         0      0          0     \n",
       "4 NEAR BAY        1        0         0      0          0     \n",
       "5 NEAR BAY        1        0         0      0          0     \n",
       "6 NEAR BAY        1        0         0      0          0     "
      ]
     },
     "metadata": {},
     "output_type": "display_data"
    }
   ],
   "source": [
    "for(i in 1:length(cat_housing$ocean_proximity)){\n",
    "    cat = as.character(cat_housing$ocean_proximity[i])\n",
    "    cat_housing[,cat][i] = 1\n",
    "}\n",
    "\n",
    "head(cat_housing)"
   ]
  },
  {
   "cell_type": "code",
   "execution_count": 16,
   "metadata": {},
   "outputs": [
    {
     "data": {
      "text/html": [
       "<table>\n",
       "<thead><tr><th></th><th scope=col>NEAR BAY</th><th scope=col>&lt;1H OCEAN</th><th scope=col>INLAND</th><th scope=col>NEAR OCEAN</th><th scope=col>ISLAND</th></tr></thead>\n",
       "<tbody>\n",
       "\t<tr><th scope=row>20635</th><td>0</td><td>0</td><td>1</td><td>0</td><td>0</td></tr>\n",
       "\t<tr><th scope=row>20636</th><td>0</td><td>0</td><td>1</td><td>0</td><td>0</td></tr>\n",
       "\t<tr><th scope=row>20637</th><td>0</td><td>0</td><td>1</td><td>0</td><td>0</td></tr>\n",
       "\t<tr><th scope=row>20638</th><td>0</td><td>0</td><td>1</td><td>0</td><td>0</td></tr>\n",
       "\t<tr><th scope=row>20639</th><td>0</td><td>0</td><td>1</td><td>0</td><td>0</td></tr>\n",
       "\t<tr><th scope=row>20640</th><td>0</td><td>0</td><td>1</td><td>0</td><td>0</td></tr>\n",
       "</tbody>\n",
       "</table>\n"
      ],
      "text/latex": [
       "\\begin{tabular}{r|lllll}\n",
       "  & NEAR BAY & <1H OCEAN & INLAND & NEAR OCEAN & ISLAND\\\\\n",
       "\\hline\n",
       "\t20635 & 0 & 0 & 1 & 0 & 0\\\\\n",
       "\t20636 & 0 & 0 & 1 & 0 & 0\\\\\n",
       "\t20637 & 0 & 0 & 1 & 0 & 0\\\\\n",
       "\t20638 & 0 & 0 & 1 & 0 & 0\\\\\n",
       "\t20639 & 0 & 0 & 1 & 0 & 0\\\\\n",
       "\t20640 & 0 & 0 & 1 & 0 & 0\\\\\n",
       "\\end{tabular}\n"
      ],
      "text/markdown": [
       "\n",
       "| <!--/--> | NEAR BAY | <1H OCEAN | INLAND | NEAR OCEAN | ISLAND | \n",
       "|---|---|---|---|---|---|\n",
       "| 20635 | 0 | 0 | 1 | 0 | 0 | \n",
       "| 20636 | 0 | 0 | 1 | 0 | 0 | \n",
       "| 20637 | 0 | 0 | 1 | 0 | 0 | \n",
       "| 20638 | 0 | 0 | 1 | 0 | 0 | \n",
       "| 20639 | 0 | 0 | 1 | 0 | 0 | \n",
       "| 20640 | 0 | 0 | 1 | 0 | 0 | \n",
       "\n",
       "\n"
      ],
      "text/plain": [
       "      NEAR BAY <1H OCEAN INLAND NEAR OCEAN ISLAND\n",
       "20635 0        0         1      0          0     \n",
       "20636 0        0         1      0          0     \n",
       "20637 0        0         1      0          0     \n",
       "20638 0        0         1      0          0     \n",
       "20639 0        0         1      0          0     \n",
       "20640 0        0         1      0          0     "
      ]
     },
     "metadata": {},
     "output_type": "display_data"
    }
   ],
   "source": [
    "cat_columns = names(cat_housing)\n",
    "keep_columns = cat_columns[cat_columns != 'ocean_proximity']\n",
    "cat_housing = select(cat_housing,one_of(keep_columns))\n",
    "\n",
    "tail(cat_housing)"
   ]
  },
  {
   "cell_type": "code",
   "execution_count": 17,
   "metadata": {},
   "outputs": [
    {
     "data": {
      "text/html": [
       "<table>\n",
       "<thead><tr><th scope=col>NEAR BAY</th><th scope=col>&lt;1H OCEAN</th><th scope=col>INLAND</th><th scope=col>NEAR OCEAN</th><th scope=col>ISLAND</th></tr></thead>\n",
       "<tbody>\n",
       "\t<tr><td>1</td><td>0</td><td>0</td><td>0</td><td>0</td></tr>\n",
       "\t<tr><td>1</td><td>0</td><td>0</td><td>0</td><td>0</td></tr>\n",
       "\t<tr><td>1</td><td>0</td><td>0</td><td>0</td><td>0</td></tr>\n",
       "\t<tr><td>1</td><td>0</td><td>0</td><td>0</td><td>0</td></tr>\n",
       "\t<tr><td>1</td><td>0</td><td>0</td><td>0</td><td>0</td></tr>\n",
       "\t<tr><td>1</td><td>0</td><td>0</td><td>0</td><td>0</td></tr>\n",
       "</tbody>\n",
       "</table>\n"
      ],
      "text/latex": [
       "\\begin{tabular}{r|lllll}\n",
       " NEAR BAY & <1H OCEAN & INLAND & NEAR OCEAN & ISLAND\\\\\n",
       "\\hline\n",
       "\t 1 & 0 & 0 & 0 & 0\\\\\n",
       "\t 1 & 0 & 0 & 0 & 0\\\\\n",
       "\t 1 & 0 & 0 & 0 & 0\\\\\n",
       "\t 1 & 0 & 0 & 0 & 0\\\\\n",
       "\t 1 & 0 & 0 & 0 & 0\\\\\n",
       "\t 1 & 0 & 0 & 0 & 0\\\\\n",
       "\\end{tabular}\n"
      ],
      "text/markdown": [
       "\n",
       "NEAR BAY | <1H OCEAN | INLAND | NEAR OCEAN | ISLAND | \n",
       "|---|---|---|---|---|---|\n",
       "| 1 | 0 | 0 | 0 | 0 | \n",
       "| 1 | 0 | 0 | 0 | 0 | \n",
       "| 1 | 0 | 0 | 0 | 0 | \n",
       "| 1 | 0 | 0 | 0 | 0 | \n",
       "| 1 | 0 | 0 | 0 | 0 | \n",
       "| 1 | 0 | 0 | 0 | 0 | \n",
       "\n",
       "\n"
      ],
      "text/plain": [
       "  NEAR BAY <1H OCEAN INLAND NEAR OCEAN ISLAND\n",
       "1 1        0         0      0          0     \n",
       "2 1        0         0      0          0     \n",
       "3 1        0         0      0          0     \n",
       "4 1        0         0      0          0     \n",
       "5 1        0         0      0          0     \n",
       "6 1        0         0      0          0     "
      ]
     },
     "metadata": {},
     "output_type": "display_data"
    }
   ],
   "source": [
    "head(cat_housing)"
   ]
  },
  {
   "cell_type": "markdown",
   "metadata": {},
   "source": [
    "## Scale the numerical variables\n",
    "\n",
    "Note here I scale every one of the numericals except for 'median_house_value' as this is what we will be working to predict. The x values are scaled so that coefficients in things like support vector machines are given equal weight, but the y value scale doen't affect the learning algorithms in the same way (and we would just need to re-scale the predictions at the end which is another hassle)."
   ]
  },
  {
   "cell_type": "code",
   "execution_count": 18,
   "metadata": {},
   "outputs": [
    {
     "data": {
      "text/html": [
       "<ol class=list-inline>\n",
       "\t<li>'longitude'</li>\n",
       "\t<li>'latitude'</li>\n",
       "\t<li>'housing_median_age'</li>\n",
       "\t<li>'population'</li>\n",
       "\t<li>'households'</li>\n",
       "\t<li>'median_income'</li>\n",
       "\t<li>'median_house_value'</li>\n",
       "\t<li>'ocean_proximity'</li>\n",
       "\t<li>'mean_bedrooms'</li>\n",
       "\t<li>'mean_rooms'</li>\n",
       "</ol>\n"
      ],
      "text/latex": [
       "\\begin{enumerate*}\n",
       "\\item 'longitude'\n",
       "\\item 'latitude'\n",
       "\\item 'housing\\_median\\_age'\n",
       "\\item 'population'\n",
       "\\item 'households'\n",
       "\\item 'median\\_income'\n",
       "\\item 'median\\_house\\_value'\n",
       "\\item 'ocean\\_proximity'\n",
       "\\item 'mean\\_bedrooms'\n",
       "\\item 'mean\\_rooms'\n",
       "\\end{enumerate*}\n"
      ],
      "text/markdown": [
       "1. 'longitude'\n",
       "2. 'latitude'\n",
       "3. 'housing_median_age'\n",
       "4. 'population'\n",
       "5. 'households'\n",
       "6. 'median_income'\n",
       "7. 'median_house_value'\n",
       "8. 'ocean_proximity'\n",
       "9. 'mean_bedrooms'\n",
       "10. 'mean_rooms'\n",
       "\n",
       "\n"
      ],
      "text/plain": [
       " [1] \"longitude\"          \"latitude\"           \"housing_median_age\"\n",
       " [4] \"population\"         \"households\"         \"median_income\"     \n",
       " [7] \"median_house_value\" \"ocean_proximity\"    \"mean_bedrooms\"     \n",
       "[10] \"mean_rooms\"        "
      ]
     },
     "metadata": {},
     "output_type": "display_data"
    }
   ],
   "source": [
    "colnames(housing)"
   ]
  },
  {
   "cell_type": "markdown",
   "metadata": {},
   "source": [
    "Below is hardcoded, I'm not perfect and sometimes take the lazy way."
   ]
  },
  {
   "cell_type": "code",
   "execution_count": 19,
   "metadata": {
    "collapsed": true
   },
   "outputs": [],
   "source": [
    "drops = c('ocean_proximity','median_house_value')\n",
    "housing_num =  housing[ , !(names(housing) %in% drops)]"
   ]
  },
  {
   "cell_type": "code",
   "execution_count": 20,
   "metadata": {},
   "outputs": [
    {
     "data": {
      "text/html": [
       "<table>\n",
       "<thead><tr><th scope=col>longitude</th><th scope=col>latitude</th><th scope=col>housing_median_age</th><th scope=col>population</th><th scope=col>households</th><th scope=col>median_income</th><th scope=col>mean_bedrooms</th><th scope=col>mean_rooms</th></tr></thead>\n",
       "<tbody>\n",
       "\t<tr><td>-122.23  </td><td>37.88    </td><td>41       </td><td> 322     </td><td> 126     </td><td>8.3252   </td><td>1.0238095</td><td>6.984127 </td></tr>\n",
       "\t<tr><td>-122.22  </td><td>37.86    </td><td>21       </td><td>2401     </td><td>1138     </td><td>8.3014   </td><td>0.9718805</td><td>6.238137 </td></tr>\n",
       "\t<tr><td>-122.24  </td><td>37.85    </td><td>52       </td><td> 496     </td><td> 177     </td><td>7.2574   </td><td>1.0734463</td><td>8.288136 </td></tr>\n",
       "\t<tr><td>-122.25  </td><td>37.85    </td><td>52       </td><td> 558     </td><td> 219     </td><td>5.6431   </td><td>1.0730594</td><td>5.817352 </td></tr>\n",
       "\t<tr><td>-122.25  </td><td>37.85    </td><td>52       </td><td> 565     </td><td> 259     </td><td>3.8462   </td><td>1.0810811</td><td>6.281853 </td></tr>\n",
       "\t<tr><td>-122.25  </td><td>37.85    </td><td>52       </td><td> 413     </td><td> 193     </td><td>4.0368   </td><td>1.1036269</td><td>4.761658 </td></tr>\n",
       "</tbody>\n",
       "</table>\n"
      ],
      "text/latex": [
       "\\begin{tabular}{r|llllllll}\n",
       " longitude & latitude & housing\\_median\\_age & population & households & median\\_income & mean\\_bedrooms & mean\\_rooms\\\\\n",
       "\\hline\n",
       "\t -122.23   & 37.88     & 41        &  322      &  126      & 8.3252    & 1.0238095 & 6.984127 \\\\\n",
       "\t -122.22   & 37.86     & 21        & 2401      & 1138      & 8.3014    & 0.9718805 & 6.238137 \\\\\n",
       "\t -122.24   & 37.85     & 52        &  496      &  177      & 7.2574    & 1.0734463 & 8.288136 \\\\\n",
       "\t -122.25   & 37.85     & 52        &  558      &  219      & 5.6431    & 1.0730594 & 5.817352 \\\\\n",
       "\t -122.25   & 37.85     & 52        &  565      &  259      & 3.8462    & 1.0810811 & 6.281853 \\\\\n",
       "\t -122.25   & 37.85     & 52        &  413      &  193      & 4.0368    & 1.1036269 & 4.761658 \\\\\n",
       "\\end{tabular}\n"
      ],
      "text/markdown": [
       "\n",
       "longitude | latitude | housing_median_age | population | households | median_income | mean_bedrooms | mean_rooms | \n",
       "|---|---|---|---|---|---|\n",
       "| -122.23   | 37.88     | 41        |  322      |  126      | 8.3252    | 1.0238095 | 6.984127  | \n",
       "| -122.22   | 37.86     | 21        | 2401      | 1138      | 8.3014    | 0.9718805 | 6.238137  | \n",
       "| -122.24   | 37.85     | 52        |  496      |  177      | 7.2574    | 1.0734463 | 8.288136  | \n",
       "| -122.25   | 37.85     | 52        |  558      |  219      | 5.6431    | 1.0730594 | 5.817352  | \n",
       "| -122.25   | 37.85     | 52        |  565      |  259      | 3.8462    | 1.0810811 | 6.281853  | \n",
       "| -122.25   | 37.85     | 52        |  413      |  193      | 4.0368    | 1.1036269 | 4.761658  | \n",
       "\n",
       "\n"
      ],
      "text/plain": [
       "  longitude latitude housing_median_age population households median_income\n",
       "1 -122.23   37.88    41                  322        126       8.3252       \n",
       "2 -122.22   37.86    21                 2401       1138       8.3014       \n",
       "3 -122.24   37.85    52                  496        177       7.2574       \n",
       "4 -122.25   37.85    52                  558        219       5.6431       \n",
       "5 -122.25   37.85    52                  565        259       3.8462       \n",
       "6 -122.25   37.85    52                  413        193       4.0368       \n",
       "  mean_bedrooms mean_rooms\n",
       "1 1.0238095     6.984127  \n",
       "2 0.9718805     6.238137  \n",
       "3 1.0734463     8.288136  \n",
       "4 1.0730594     5.817352  \n",
       "5 1.0810811     6.281853  \n",
       "6 1.1036269     4.761658  "
      ]
     },
     "metadata": {},
     "output_type": "display_data"
    }
   ],
   "source": [
    "head(housing_num)"
   ]
  },
  {
   "cell_type": "code",
   "execution_count": 21,
   "metadata": {
    "collapsed": true
   },
   "outputs": [],
   "source": [
    "scaled_housing_num = scale(housing_num)"
   ]
  },
  {
   "cell_type": "code",
   "execution_count": 22,
   "metadata": {},
   "outputs": [
    {
     "data": {
      "text/html": [
       "<table>\n",
       "<thead><tr><th scope=col>longitude</th><th scope=col>latitude</th><th scope=col>housing_median_age</th><th scope=col>population</th><th scope=col>households</th><th scope=col>median_income</th><th scope=col>mean_bedrooms</th><th scope=col>mean_rooms</th></tr></thead>\n",
       "<tbody>\n",
       "\t<tr><td>-1.327803   </td><td>1.052523    </td><td> 0.9821189  </td><td>-0.9744050  </td><td>-0.9770092  </td><td> 2.34470896 </td><td>-0.148510661</td><td> 0.6285442  </td></tr>\n",
       "\t<tr><td>-1.322812   </td><td>1.043159    </td><td>-0.6070042  </td><td> 0.8614180  </td><td> 1.6699206  </td><td> 2.33218146 </td><td>-0.248535936</td><td> 0.3270334  </td></tr>\n",
       "\t<tr><td>-1.332794   </td><td>1.038478    </td><td> 1.8561366  </td><td>-0.8207575  </td><td>-0.8436165  </td><td> 1.78265622 </td><td>-0.052900657</td><td> 1.1555925  </td></tr>\n",
       "\t<tr><td>-1.337785   </td><td>1.038478    </td><td> 1.8561366  </td><td>-0.7660095  </td><td>-0.7337637  </td><td> 0.93294491 </td><td>-0.053646030</td><td> 0.1569623  </td></tr>\n",
       "\t<tr><td>-1.337785   </td><td>1.038478    </td><td> 1.8561366  </td><td>-0.7598283  </td><td>-0.6291419  </td><td>-0.01288068 </td><td>-0.038194658</td><td> 0.3447024  </td></tr>\n",
       "\t<tr><td>-1.337785   </td><td>1.038478    </td><td> 1.8561366  </td><td>-0.8940491  </td><td>-0.8017678  </td><td> 0.08744452 </td><td> 0.005232996</td><td>-0.2697231  </td></tr>\n",
       "</tbody>\n",
       "</table>\n"
      ],
      "text/latex": [
       "\\begin{tabular}{llllllll}\n",
       " longitude & latitude & housing\\_median\\_age & population & households & median\\_income & mean\\_bedrooms & mean\\_rooms\\\\\n",
       "\\hline\n",
       "\t -1.327803    & 1.052523     &  0.9821189   & -0.9744050   & -0.9770092   &  2.34470896  & -0.148510661 &  0.6285442  \\\\\n",
       "\t -1.322812    & 1.043159     & -0.6070042   &  0.8614180   &  1.6699206   &  2.33218146  & -0.248535936 &  0.3270334  \\\\\n",
       "\t -1.332794    & 1.038478     &  1.8561366   & -0.8207575   & -0.8436165   &  1.78265622  & -0.052900657 &  1.1555925  \\\\\n",
       "\t -1.337785    & 1.038478     &  1.8561366   & -0.7660095   & -0.7337637   &  0.93294491  & -0.053646030 &  0.1569623  \\\\\n",
       "\t -1.337785    & 1.038478     &  1.8561366   & -0.7598283   & -0.6291419   & -0.01288068  & -0.038194658 &  0.3447024  \\\\\n",
       "\t -1.337785    & 1.038478     &  1.8561366   & -0.8940491   & -0.8017678   &  0.08744452  &  0.005232996 & -0.2697231  \\\\\n",
       "\\end{tabular}\n"
      ],
      "text/markdown": [
       "\n",
       "longitude | latitude | housing_median_age | population | households | median_income | mean_bedrooms | mean_rooms | \n",
       "|---|---|---|---|---|---|\n",
       "| -1.327803    | 1.052523     |  0.9821189   | -0.9744050   | -0.9770092   |  2.34470896  | -0.148510661 |  0.6285442   | \n",
       "| -1.322812    | 1.043159     | -0.6070042   |  0.8614180   |  1.6699206   |  2.33218146  | -0.248535936 |  0.3270334   | \n",
       "| -1.332794    | 1.038478     |  1.8561366   | -0.8207575   | -0.8436165   |  1.78265622  | -0.052900657 |  1.1555925   | \n",
       "| -1.337785    | 1.038478     |  1.8561366   | -0.7660095   | -0.7337637   |  0.93294491  | -0.053646030 |  0.1569623   | \n",
       "| -1.337785    | 1.038478     |  1.8561366   | -0.7598283   | -0.6291419   | -0.01288068  | -0.038194658 |  0.3447024   | \n",
       "| -1.337785    | 1.038478     |  1.8561366   | -0.8940491   | -0.8017678   |  0.08744452  |  0.005232996 | -0.2697231   | \n",
       "\n",
       "\n"
      ],
      "text/plain": [
       "     longitude latitude housing_median_age population households median_income\n",
       "[1,] -1.327803 1.052523  0.9821189         -0.9744050 -0.9770092  2.34470896  \n",
       "[2,] -1.322812 1.043159 -0.6070042          0.8614180  1.6699206  2.33218146  \n",
       "[3,] -1.332794 1.038478  1.8561366         -0.8207575 -0.8436165  1.78265622  \n",
       "[4,] -1.337785 1.038478  1.8561366         -0.7660095 -0.7337637  0.93294491  \n",
       "[5,] -1.337785 1.038478  1.8561366         -0.7598283 -0.6291419 -0.01288068  \n",
       "[6,] -1.337785 1.038478  1.8561366         -0.8940491 -0.8017678  0.08744452  \n",
       "     mean_bedrooms mean_rooms\n",
       "[1,] -0.148510661   0.6285442\n",
       "[2,] -0.248535936   0.3270334\n",
       "[3,] -0.052900657   1.1555925\n",
       "[4,] -0.053646030   0.1569623\n",
       "[5,] -0.038194658   0.3447024\n",
       "[6,]  0.005232996  -0.2697231"
      ]
     },
     "metadata": {},
     "output_type": "display_data"
    }
   ],
   "source": [
    "head(scaled_housing_num)"
   ]
  },
  {
   "cell_type": "code",
   "execution_count": 23,
   "metadata": {},
   "outputs": [
    {
     "data": {
      "text/html": [
       "<table>\n",
       "<thead><tr><th scope=col>longitude</th><th scope=col>latitude</th><th scope=col>housing_median_age</th><th scope=col>population</th><th scope=col>households</th><th scope=col>median_income</th><th scope=col>mean_bedrooms</th><th scope=col>mean_rooms</th></tr></thead>\n",
       "<tbody>\n",
       "\t<tr><td>-122.23  </td><td>37.88    </td><td>41       </td><td> 322     </td><td> 126     </td><td>8.3252   </td><td>1.0238095</td><td>6.984127 </td></tr>\n",
       "\t<tr><td>-122.22  </td><td>37.86    </td><td>21       </td><td>2401     </td><td>1138     </td><td>8.3014   </td><td>0.9718805</td><td>6.238137 </td></tr>\n",
       "\t<tr><td>-122.24  </td><td>37.85    </td><td>52       </td><td> 496     </td><td> 177     </td><td>7.2574   </td><td>1.0734463</td><td>8.288136 </td></tr>\n",
       "\t<tr><td>-122.25  </td><td>37.85    </td><td>52       </td><td> 558     </td><td> 219     </td><td>5.6431   </td><td>1.0730594</td><td>5.817352 </td></tr>\n",
       "\t<tr><td>-122.25  </td><td>37.85    </td><td>52       </td><td> 565     </td><td> 259     </td><td>3.8462   </td><td>1.0810811</td><td>6.281853 </td></tr>\n",
       "\t<tr><td>-122.25  </td><td>37.85    </td><td>52       </td><td> 413     </td><td> 193     </td><td>4.0368   </td><td>1.1036269</td><td>4.761658 </td></tr>\n",
       "</tbody>\n",
       "</table>\n"
      ],
      "text/latex": [
       "\\begin{tabular}{r|llllllll}\n",
       " longitude & latitude & housing\\_median\\_age & population & households & median\\_income & mean\\_bedrooms & mean\\_rooms\\\\\n",
       "\\hline\n",
       "\t -122.23   & 37.88     & 41        &  322      &  126      & 8.3252    & 1.0238095 & 6.984127 \\\\\n",
       "\t -122.22   & 37.86     & 21        & 2401      & 1138      & 8.3014    & 0.9718805 & 6.238137 \\\\\n",
       "\t -122.24   & 37.85     & 52        &  496      &  177      & 7.2574    & 1.0734463 & 8.288136 \\\\\n",
       "\t -122.25   & 37.85     & 52        &  558      &  219      & 5.6431    & 1.0730594 & 5.817352 \\\\\n",
       "\t -122.25   & 37.85     & 52        &  565      &  259      & 3.8462    & 1.0810811 & 6.281853 \\\\\n",
       "\t -122.25   & 37.85     & 52        &  413      &  193      & 4.0368    & 1.1036269 & 4.761658 \\\\\n",
       "\\end{tabular}\n"
      ],
      "text/markdown": [
       "\n",
       "longitude | latitude | housing_median_age | population | households | median_income | mean_bedrooms | mean_rooms | \n",
       "|---|---|---|---|---|---|\n",
       "| -122.23   | 37.88     | 41        |  322      |  126      | 8.3252    | 1.0238095 | 6.984127  | \n",
       "| -122.22   | 37.86     | 21        | 2401      | 1138      | 8.3014    | 0.9718805 | 6.238137  | \n",
       "| -122.24   | 37.85     | 52        |  496      |  177      | 7.2574    | 1.0734463 | 8.288136  | \n",
       "| -122.25   | 37.85     | 52        |  558      |  219      | 5.6431    | 1.0730594 | 5.817352  | \n",
       "| -122.25   | 37.85     | 52        |  565      |  259      | 3.8462    | 1.0810811 | 6.281853  | \n",
       "| -122.25   | 37.85     | 52        |  413      |  193      | 4.0368    | 1.1036269 | 4.761658  | \n",
       "\n",
       "\n"
      ],
      "text/plain": [
       "  longitude latitude housing_median_age population households median_income\n",
       "1 -122.23   37.88    41                  322        126       8.3252       \n",
       "2 -122.22   37.86    21                 2401       1138       8.3014       \n",
       "3 -122.24   37.85    52                  496        177       7.2574       \n",
       "4 -122.25   37.85    52                  558        219       5.6431       \n",
       "5 -122.25   37.85    52                  565        259       3.8462       \n",
       "6 -122.25   37.85    52                  413        193       4.0368       \n",
       "  mean_bedrooms mean_rooms\n",
       "1 1.0238095     6.984127  \n",
       "2 0.9718805     6.238137  \n",
       "3 1.0734463     8.288136  \n",
       "4 1.0730594     5.817352  \n",
       "5 1.0810811     6.281853  \n",
       "6 1.1036269     4.761658  "
      ]
     },
     "metadata": {},
     "output_type": "display_data"
    }
   ],
   "source": [
    "head(housing_num)"
   ]
  },
  {
   "cell_type": "markdown",
   "metadata": {},
   "source": [
    "## Merge the altered numerical and categorical dataframes"
   ]
  },
  {
   "cell_type": "code",
   "execution_count": 24,
   "metadata": {
    "collapsed": true
   },
   "outputs": [],
   "source": [
    "cleaned_housing = cbind(cat_housing, scaled_housing_num, median_house_value=housing$median_house_value)"
   ]
  },
  {
   "cell_type": "code",
   "execution_count": 25,
   "metadata": {},
   "outputs": [
    {
     "data": {
      "text/html": [
       "<table>\n",
       "<thead><tr><th scope=col>NEAR BAY</th><th scope=col>&lt;1H OCEAN</th><th scope=col>INLAND</th><th scope=col>NEAR OCEAN</th><th scope=col>ISLAND</th><th scope=col>longitude</th><th scope=col>latitude</th><th scope=col>housing_median_age</th><th scope=col>population</th><th scope=col>households</th><th scope=col>median_income</th><th scope=col>mean_bedrooms</th><th scope=col>mean_rooms</th><th scope=col>median_house_value</th></tr></thead>\n",
       "<tbody>\n",
       "\t<tr><td>1           </td><td>0           </td><td>0           </td><td>0           </td><td>0           </td><td>-1.327803   </td><td>1.052523    </td><td> 0.9821189  </td><td>-0.9744050  </td><td>-0.9770092  </td><td> 2.34470896 </td><td>-0.148510661</td><td> 0.6285442  </td><td>452600      </td></tr>\n",
       "\t<tr><td>1           </td><td>0           </td><td>0           </td><td>0           </td><td>0           </td><td>-1.322812   </td><td>1.043159    </td><td>-0.6070042  </td><td> 0.8614180  </td><td> 1.6699206  </td><td> 2.33218146 </td><td>-0.248535936</td><td> 0.3270334  </td><td>358500      </td></tr>\n",
       "\t<tr><td>1           </td><td>0           </td><td>0           </td><td>0           </td><td>0           </td><td>-1.332794   </td><td>1.038478    </td><td> 1.8561366  </td><td>-0.8207575  </td><td>-0.8436165  </td><td> 1.78265622 </td><td>-0.052900657</td><td> 1.1555925  </td><td>352100      </td></tr>\n",
       "\t<tr><td>1           </td><td>0           </td><td>0           </td><td>0           </td><td>0           </td><td>-1.337785   </td><td>1.038478    </td><td> 1.8561366  </td><td>-0.7660095  </td><td>-0.7337637  </td><td> 0.93294491 </td><td>-0.053646030</td><td> 0.1569623  </td><td>341300      </td></tr>\n",
       "\t<tr><td>1           </td><td>0           </td><td>0           </td><td>0           </td><td>0           </td><td>-1.337785   </td><td>1.038478    </td><td> 1.8561366  </td><td>-0.7598283  </td><td>-0.6291419  </td><td>-0.01288068 </td><td>-0.038194658</td><td> 0.3447024  </td><td>342200      </td></tr>\n",
       "\t<tr><td>1           </td><td>0           </td><td>0           </td><td>0           </td><td>0           </td><td>-1.337785   </td><td>1.038478    </td><td> 1.8561366  </td><td>-0.8940491  </td><td>-0.8017678  </td><td> 0.08744452 </td><td> 0.005232996</td><td>-0.2697231  </td><td>269700      </td></tr>\n",
       "</tbody>\n",
       "</table>\n"
      ],
      "text/latex": [
       "\\begin{tabular}{r|llllllllllllll}\n",
       " NEAR BAY & <1H OCEAN & INLAND & NEAR OCEAN & ISLAND & longitude & latitude & housing\\_median\\_age & population & households & median\\_income & mean\\_bedrooms & mean\\_rooms & median\\_house\\_value\\\\\n",
       "\\hline\n",
       "\t 1            & 0            & 0            & 0            & 0            & -1.327803    & 1.052523     &  0.9821189   & -0.9744050   & -0.9770092   &  2.34470896  & -0.148510661 &  0.6285442   & 452600      \\\\\n",
       "\t 1            & 0            & 0            & 0            & 0            & -1.322812    & 1.043159     & -0.6070042   &  0.8614180   &  1.6699206   &  2.33218146  & -0.248535936 &  0.3270334   & 358500      \\\\\n",
       "\t 1            & 0            & 0            & 0            & 0            & -1.332794    & 1.038478     &  1.8561366   & -0.8207575   & -0.8436165   &  1.78265622  & -0.052900657 &  1.1555925   & 352100      \\\\\n",
       "\t 1            & 0            & 0            & 0            & 0            & -1.337785    & 1.038478     &  1.8561366   & -0.7660095   & -0.7337637   &  0.93294491  & -0.053646030 &  0.1569623   & 341300      \\\\\n",
       "\t 1            & 0            & 0            & 0            & 0            & -1.337785    & 1.038478     &  1.8561366   & -0.7598283   & -0.6291419   & -0.01288068  & -0.038194658 &  0.3447024   & 342200      \\\\\n",
       "\t 1            & 0            & 0            & 0            & 0            & -1.337785    & 1.038478     &  1.8561366   & -0.8940491   & -0.8017678   &  0.08744452  &  0.005232996 & -0.2697231   & 269700      \\\\\n",
       "\\end{tabular}\n"
      ],
      "text/markdown": [
       "\n",
       "NEAR BAY | <1H OCEAN | INLAND | NEAR OCEAN | ISLAND | longitude | latitude | housing_median_age | population | households | median_income | mean_bedrooms | mean_rooms | median_house_value | \n",
       "|---|---|---|---|---|---|\n",
       "| 1            | 0            | 0            | 0            | 0            | -1.327803    | 1.052523     |  0.9821189   | -0.9744050   | -0.9770092   |  2.34470896  | -0.148510661 |  0.6285442   | 452600       | \n",
       "| 1            | 0            | 0            | 0            | 0            | -1.322812    | 1.043159     | -0.6070042   |  0.8614180   |  1.6699206   |  2.33218146  | -0.248535936 |  0.3270334   | 358500       | \n",
       "| 1            | 0            | 0            | 0            | 0            | -1.332794    | 1.038478     |  1.8561366   | -0.8207575   | -0.8436165   |  1.78265622  | -0.052900657 |  1.1555925   | 352100       | \n",
       "| 1            | 0            | 0            | 0            | 0            | -1.337785    | 1.038478     |  1.8561366   | -0.7660095   | -0.7337637   |  0.93294491  | -0.053646030 |  0.1569623   | 341300       | \n",
       "| 1            | 0            | 0            | 0            | 0            | -1.337785    | 1.038478     |  1.8561366   | -0.7598283   | -0.6291419   | -0.01288068  | -0.038194658 |  0.3447024   | 342200       | \n",
       "| 1            | 0            | 0            | 0            | 0            | -1.337785    | 1.038478     |  1.8561366   | -0.8940491   | -0.8017678   |  0.08744452  |  0.005232996 | -0.2697231   | 269700       | \n",
       "\n",
       "\n"
      ],
      "text/plain": [
       "  NEAR BAY <1H OCEAN INLAND NEAR OCEAN ISLAND longitude latitude\n",
       "1 1        0         0      0          0      -1.327803 1.052523\n",
       "2 1        0         0      0          0      -1.322812 1.043159\n",
       "3 1        0         0      0          0      -1.332794 1.038478\n",
       "4 1        0         0      0          0      -1.337785 1.038478\n",
       "5 1        0         0      0          0      -1.337785 1.038478\n",
       "6 1        0         0      0          0      -1.337785 1.038478\n",
       "  housing_median_age population households median_income mean_bedrooms\n",
       "1  0.9821189         -0.9744050 -0.9770092  2.34470896   -0.148510661 \n",
       "2 -0.6070042          0.8614180  1.6699206  2.33218146   -0.248535936 \n",
       "3  1.8561366         -0.8207575 -0.8436165  1.78265622   -0.052900657 \n",
       "4  1.8561366         -0.7660095 -0.7337637  0.93294491   -0.053646030 \n",
       "5  1.8561366         -0.7598283 -0.6291419 -0.01288068   -0.038194658 \n",
       "6  1.8561366         -0.8940491 -0.8017678  0.08744452    0.005232996 \n",
       "  mean_rooms median_house_value\n",
       "1  0.6285442 452600            \n",
       "2  0.3270334 358500            \n",
       "3  1.1555925 352100            \n",
       "4  0.1569623 341300            \n",
       "5  0.3447024 342200            \n",
       "6 -0.2697231 269700            "
      ]
     },
     "metadata": {},
     "output_type": "display_data"
    }
   ],
   "source": [
    "head(cleaned_housing)"
   ]
  },
  {
   "cell_type": "markdown",
   "metadata": {},
   "source": [
    "### Now we have clean data that we can put into some machine learning algorithms!\n",
    "\n",
    "## Step 3. Create a test set of data\n",
    "We pull a test subsection from the main dataframe and put it to the side to not be looked at prior to testing our models. Don't look at it, as snooping the test data introduces a bias to your work!\n",
    "\n",
    "This is the data we use to validate our model, when we train a machine learning algorithm the goal is usually to make an algorithm that predicts well on data it hasn't seen before. To assess this feature, we pull a set of data to validate the models as accurate/inaccurate once we have completed the training process.\n",
    "\n",
    "#### Generally 20-30% of data is taken into the test subset\n",
    "Below we do the following:\n",
    "1. use sample.int to take a subsample of the vector of integers. The vector is 1 -> the number of rows in the dataframe and the size = says we are taking 80% of the number of rows (floor() is floor division).\n",
    "2. Slice the dataframe for only the 80% of row numbers in sample (training set)\n",
    "3. Slice the inverse of the 80% to get the test test."
   ]
  },
  {
   "cell_type": "code",
   "execution_count": 26,
   "metadata": {
    "collapsed": true
   },
   "outputs": [],
   "source": [
    "?sample.int"
   ]
  },
  {
   "cell_type": "code",
   "execution_count": 27,
   "metadata": {
    "collapsed": true
   },
   "outputs": [],
   "source": [
    "set.seed(19) # Set a random seed so that same sample can be reproduced in future runs\n",
    "\n",
    "sample = sample.int(n = nrow(cleaned_housing), size = floor(.8*nrow(cleaned_housing)), replace = F)\n",
    "train = cleaned_housing[sample, ] #just the samples\n",
    "test  = cleaned_housing[-sample, ] #everything but the samples"
   ]
  },
  {
   "cell_type": "markdown",
   "metadata": {
    "collapsed": true
   },
   "source": [
    "I like to use little sanity checks like the ones below to make sure the manipulations have done what I want.\n",
    "With big dataframes you need find ways to be sure that don't involve looking at the whole thing every step!\n",
    "\n",
    "Note that the train data below has all the columns we want, and also that the index is jumbled (so we did take a random sample). The second check makes sure that the length of the train and test dataframes equals the length of the dataframe they were split from, which shows we didn't lose data or make any up by accident!"
   ]
  },
  {
   "cell_type": "code",
   "execution_count": 28,
   "metadata": {},
   "outputs": [
    {
     "data": {
      "text/html": [
       "<table>\n",
       "<thead><tr><th></th><th scope=col>NEAR BAY</th><th scope=col>&lt;1H OCEAN</th><th scope=col>INLAND</th><th scope=col>NEAR OCEAN</th><th scope=col>ISLAND</th><th scope=col>longitude</th><th scope=col>latitude</th><th scope=col>housing_median_age</th><th scope=col>population</th><th scope=col>households</th><th scope=col>median_income</th><th scope=col>mean_bedrooms</th><th scope=col>mean_rooms</th><th scope=col>median_house_value</th></tr></thead>\n",
       "<tbody>\n",
       "\t<tr><th scope=row>2418</th><td>0          </td><td>0          </td><td>1          </td><td>0          </td><td>0          </td><td> 0.06473791</td><td> 0.4485767 </td><td>-0.05081113</td><td>-0.08342596</td><td>-0.50882695</td><td>-1.2394168 </td><td>-0.03648780</td><td>-0.4145713 </td><td> 56700     </td></tr>\n",
       "\t<tr><th scope=row>9990</th><td>0          </td><td>0          </td><td>1          </td><td>0          </td><td>0          </td><td>-0.74882545</td><td> 1.6471053 </td><td>-1.08374113</td><td> 1.39212008</td><td> 2.14071836</td><td>-0.7358959 </td><td>-0.19291092</td><td>-0.1004065 </td><td>143400     </td></tr>\n",
       "\t<tr><th scope=row>13440</th><td>0          </td><td>0          </td><td>1          </td><td>0          </td><td>0          </td><td> 1.07295753</td><td>-0.7218613 </td><td>-0.05081113</td><td> 0.28656434</td><td> 0.06136148</td><td> 0.1404495 </td><td>-0.18700644</td><td> 0.2732884 </td><td>128300     </td></tr>\n",
       "\t<tr><th scope=row>1412</th><td>1          </td><td>0          </td><td>0          </td><td>0          </td><td>0          </td><td>-1.25293526</td><td> 1.0759315 </td><td> 0.50538194</td><td> 0.35897294</td><td> 0.42492199</td><td> 0.6344959 </td><td>-0.11581168</td><td> 0.2741324 </td><td>233200     </td></tr>\n",
       "\t<tr><th scope=row>7539</th><td>0          </td><td>1          </td><td>0          </td><td>0          </td><td>0          </td><td> 0.67865382</td><td>-0.8061329 </td><td>-0.20972344</td><td> 1.03802435</td><td> 0.21829408</td><td>-1.0991931 </td><td>-0.03247975</td><td>-0.5151724 </td><td>110200     </td></tr>\n",
       "\t<tr><th scope=row>4621</th><td>0          </td><td>1          </td><td>0          </td><td>0          </td><td>0          </td><td> 0.62874196</td><td>-0.7265431 </td><td> 1.61776810</td><td> 0.10024464</td><td> 0.24706505</td><td>-0.6573622 </td><td>-0.07763347</td><td>-0.4598522 </td><td>350900     </td></tr>\n",
       "</tbody>\n",
       "</table>\n"
      ],
      "text/latex": [
       "\\begin{tabular}{r|llllllllllllll}\n",
       "  & NEAR BAY & <1H OCEAN & INLAND & NEAR OCEAN & ISLAND & longitude & latitude & housing\\_median\\_age & population & households & median\\_income & mean\\_bedrooms & mean\\_rooms & median\\_house\\_value\\\\\n",
       "\\hline\n",
       "\t2418 & 0           & 0           & 1           & 0           & 0           &  0.06473791 &  0.4485767  & -0.05081113 & -0.08342596 & -0.50882695 & -1.2394168  & -0.03648780 & -0.4145713  &  56700     \\\\\n",
       "\t9990 & 0           & 0           & 1           & 0           & 0           & -0.74882545 &  1.6471053  & -1.08374113 &  1.39212008 &  2.14071836 & -0.7358959  & -0.19291092 & -0.1004065  & 143400     \\\\\n",
       "\t13440 & 0           & 0           & 1           & 0           & 0           &  1.07295753 & -0.7218613  & -0.05081113 &  0.28656434 &  0.06136148 &  0.1404495  & -0.18700644 &  0.2732884  & 128300     \\\\\n",
       "\t1412 & 1           & 0           & 0           & 0           & 0           & -1.25293526 &  1.0759315  &  0.50538194 &  0.35897294 &  0.42492199 &  0.6344959  & -0.11581168 &  0.2741324  & 233200     \\\\\n",
       "\t7539 & 0           & 1           & 0           & 0           & 0           &  0.67865382 & -0.8061329  & -0.20972344 &  1.03802435 &  0.21829408 & -1.0991931  & -0.03247975 & -0.5151724  & 110200     \\\\\n",
       "\t4621 & 0           & 1           & 0           & 0           & 0           &  0.62874196 & -0.7265431  &  1.61776810 &  0.10024464 &  0.24706505 & -0.6573622  & -0.07763347 & -0.4598522  & 350900     \\\\\n",
       "\\end{tabular}\n"
      ],
      "text/markdown": [
       "\n",
       "| <!--/--> | NEAR BAY | <1H OCEAN | INLAND | NEAR OCEAN | ISLAND | longitude | latitude | housing_median_age | population | households | median_income | mean_bedrooms | mean_rooms | median_house_value | \n",
       "|---|---|---|---|---|---|\n",
       "| 2418 | 0           | 0           | 1           | 0           | 0           |  0.06473791 |  0.4485767  | -0.05081113 | -0.08342596 | -0.50882695 | -1.2394168  | -0.03648780 | -0.4145713  |  56700      | \n",
       "| 9990 | 0           | 0           | 1           | 0           | 0           | -0.74882545 |  1.6471053  | -1.08374113 |  1.39212008 |  2.14071836 | -0.7358959  | -0.19291092 | -0.1004065  | 143400      | \n",
       "| 13440 | 0           | 0           | 1           | 0           | 0           |  1.07295753 | -0.7218613  | -0.05081113 |  0.28656434 |  0.06136148 |  0.1404495  | -0.18700644 |  0.2732884  | 128300      | \n",
       "| 1412 | 1           | 0           | 0           | 0           | 0           | -1.25293526 |  1.0759315  |  0.50538194 |  0.35897294 |  0.42492199 |  0.6344959  | -0.11581168 |  0.2741324  | 233200      | \n",
       "| 7539 | 0           | 1           | 0           | 0           | 0           |  0.67865382 | -0.8061329  | -0.20972344 |  1.03802435 |  0.21829408 | -1.0991931  | -0.03247975 | -0.5151724  | 110200      | \n",
       "| 4621 | 0           | 1           | 0           | 0           | 0           |  0.62874196 | -0.7265431  |  1.61776810 |  0.10024464 |  0.24706505 | -0.6573622  | -0.07763347 | -0.4598522  | 350900      | \n",
       "\n",
       "\n"
      ],
      "text/plain": [
       "      NEAR BAY <1H OCEAN INLAND NEAR OCEAN ISLAND longitude   latitude  \n",
       "2418  0        0         1      0          0       0.06473791  0.4485767\n",
       "9990  0        0         1      0          0      -0.74882545  1.6471053\n",
       "13440 0        0         1      0          0       1.07295753 -0.7218613\n",
       "1412  1        0         0      0          0      -1.25293526  1.0759315\n",
       "7539  0        1         0      0          0       0.67865382 -0.8061329\n",
       "4621  0        1         0      0          0       0.62874196 -0.7265431\n",
       "      housing_median_age population  households  median_income mean_bedrooms\n",
       "2418  -0.05081113        -0.08342596 -0.50882695 -1.2394168    -0.03648780  \n",
       "9990  -1.08374113         1.39212008  2.14071836 -0.7358959    -0.19291092  \n",
       "13440 -0.05081113         0.28656434  0.06136148  0.1404495    -0.18700644  \n",
       "1412   0.50538194         0.35897294  0.42492199  0.6344959    -0.11581168  \n",
       "7539  -0.20972344         1.03802435  0.21829408 -1.0991931    -0.03247975  \n",
       "4621   1.61776810         0.10024464  0.24706505 -0.6573622    -0.07763347  \n",
       "      mean_rooms median_house_value\n",
       "2418  -0.4145713  56700            \n",
       "9990  -0.1004065 143400            \n",
       "13440  0.2732884 128300            \n",
       "1412   0.2741324 233200            \n",
       "7539  -0.5151724 110200            \n",
       "4621  -0.4598522 350900            "
      ]
     },
     "metadata": {},
     "output_type": "display_data"
    }
   ],
   "source": [
    "head(train)"
   ]
  },
  {
   "cell_type": "code",
   "execution_count": 29,
   "metadata": {},
   "outputs": [
    {
     "data": {
      "text/html": [
       "TRUE"
      ],
      "text/latex": [
       "TRUE"
      ],
      "text/markdown": [
       "TRUE"
      ],
      "text/plain": [
       "[1] TRUE"
      ]
     },
     "metadata": {},
     "output_type": "display_data"
    }
   ],
   "source": [
    "nrow(train) + nrow(test) == nrow(cleaned_housing)"
   ]
  },
  {
   "cell_type": "markdown",
   "metadata": {},
   "source": [
    "## Step 4. Test some predictive models.\n",
    "\n",
    "We start here with just a simple linear model using 3 of the avaliable predictors. Median income, total rooms and population. This serves as an entry point to introduce the topic of cross validation and a basic model. We want a model that makes good predictions on data that it has not seen before. A model that explains the variation in the data it was trained on well, but does not generalize to external data is referred to as being overfit. You may think \"that's why we split off some test data, let just compare to that!\" but we don't want to repeatedly assess against our test set, as then the model can just become overfit to that set of data thus moving and not solving the problem. \n",
    "\n",
    "So here we do cross validation to test the model using only the training data. Our K is 5, what this means is that the training data is split into 5 equal portions. One of the 5 folds is put to the side (as a mini test data set) and then the model is trained using the other 4 portions. After that the predictions are made on the folds that was withheld, and the process is repeated for each of the 5 folds and the average predictions produced from the iterations of the model is taken. This gives us a rough understanding of how well the model predicts on external data!\n",
    "\n",
    "#### CAM DRAW THIS"
   ]
  },
  {
   "cell_type": "code",
   "execution_count": 30,
   "metadata": {
    "collapsed": true
   },
   "outputs": [],
   "source": [
    "library('boot')"
   ]
  },
  {
   "cell_type": "code",
   "execution_count": 31,
   "metadata": {
    "collapsed": true
   },
   "outputs": [],
   "source": [
    "?cv.glm # note the K option for K fold cross validation"
   ]
  },
  {
   "cell_type": "code",
   "execution_count": 32,
   "metadata": {
    "collapsed": true
   },
   "outputs": [],
   "source": [
    "glm_house = glm(median_house_value~median_income+mean_rooms+population, data=cleaned_housing)\n",
    "k_fold_cv_error = cv.glm(cleaned_housing , glm_house, K=5)"
   ]
  },
  {
   "cell_type": "code",
   "execution_count": 33,
   "metadata": {},
   "outputs": [
    {
     "data": {
      "text/html": [
       "<ol class=list-inline>\n",
       "\t<li>6936817536.40293</li>\n",
       "\t<li>6934473738.44841</li>\n",
       "</ol>\n"
      ],
      "text/latex": [
       "\\begin{enumerate*}\n",
       "\\item 6936817536.40293\n",
       "\\item 6934473738.44841\n",
       "\\end{enumerate*}\n"
      ],
      "text/markdown": [
       "1. 6936817536.40293\n",
       "2. 6934473738.44841\n",
       "\n",
       "\n"
      ],
      "text/plain": [
       "[1] 6936817536 6934473738"
      ]
     },
     "metadata": {},
     "output_type": "display_data"
    }
   ],
   "source": [
    "k_fold_cv_error$delta"
   ]
  },
  {
   "cell_type": "markdown",
   "metadata": {},
   "source": [
    "The first component is the raw cross-validation estimate of prediction error. \n",
    "The second component is the adjusted cross-validation estimate."
   ]
  },
  {
   "cell_type": "code",
   "execution_count": 34,
   "metadata": {},
   "outputs": [
    {
     "data": {
      "text/html": [
       "83287.5593135189"
      ],
      "text/latex": [
       "83287.5593135189"
      ],
      "text/markdown": [
       "83287.5593135189"
      ],
      "text/plain": [
       "[1] 83287.56"
      ]
     },
     "metadata": {},
     "output_type": "display_data"
    }
   ],
   "source": [
    "glm_cv_rmse = sqrt(k_fold_cv_error$delta)[1]\n",
    "glm_cv_rmse #off by about $83,000... it is a start"
   ]
  },
  {
   "cell_type": "code",
   "execution_count": 35,
   "metadata": {},
   "outputs": [
    {
     "data": {
      "text/html": [
       "<ol class=list-inline>\n",
       "\t<li>'coefficients'</li>\n",
       "\t<li>'residuals'</li>\n",
       "\t<li>'fitted.values'</li>\n",
       "\t<li>'effects'</li>\n",
       "\t<li>'R'</li>\n",
       "\t<li>'rank'</li>\n",
       "\t<li>'qr'</li>\n",
       "\t<li>'family'</li>\n",
       "\t<li>'linear.predictors'</li>\n",
       "\t<li>'deviance'</li>\n",
       "\t<li>'aic'</li>\n",
       "\t<li>'null.deviance'</li>\n",
       "\t<li>'iter'</li>\n",
       "\t<li>'weights'</li>\n",
       "\t<li>'prior.weights'</li>\n",
       "\t<li>'df.residual'</li>\n",
       "\t<li>'df.null'</li>\n",
       "\t<li>'y'</li>\n",
       "\t<li>'converged'</li>\n",
       "\t<li>'boundary'</li>\n",
       "\t<li>'model'</li>\n",
       "\t<li>'call'</li>\n",
       "\t<li>'formula'</li>\n",
       "\t<li>'terms'</li>\n",
       "\t<li>'data'</li>\n",
       "\t<li>'offset'</li>\n",
       "\t<li>'control'</li>\n",
       "\t<li>'method'</li>\n",
       "\t<li>'contrasts'</li>\n",
       "\t<li>'xlevels'</li>\n",
       "</ol>\n"
      ],
      "text/latex": [
       "\\begin{enumerate*}\n",
       "\\item 'coefficients'\n",
       "\\item 'residuals'\n",
       "\\item 'fitted.values'\n",
       "\\item 'effects'\n",
       "\\item 'R'\n",
       "\\item 'rank'\n",
       "\\item 'qr'\n",
       "\\item 'family'\n",
       "\\item 'linear.predictors'\n",
       "\\item 'deviance'\n",
       "\\item 'aic'\n",
       "\\item 'null.deviance'\n",
       "\\item 'iter'\n",
       "\\item 'weights'\n",
       "\\item 'prior.weights'\n",
       "\\item 'df.residual'\n",
       "\\item 'df.null'\n",
       "\\item 'y'\n",
       "\\item 'converged'\n",
       "\\item 'boundary'\n",
       "\\item 'model'\n",
       "\\item 'call'\n",
       "\\item 'formula'\n",
       "\\item 'terms'\n",
       "\\item 'data'\n",
       "\\item 'offset'\n",
       "\\item 'control'\n",
       "\\item 'method'\n",
       "\\item 'contrasts'\n",
       "\\item 'xlevels'\n",
       "\\end{enumerate*}\n"
      ],
      "text/markdown": [
       "1. 'coefficients'\n",
       "2. 'residuals'\n",
       "3. 'fitted.values'\n",
       "4. 'effects'\n",
       "5. 'R'\n",
       "6. 'rank'\n",
       "7. 'qr'\n",
       "8. 'family'\n",
       "9. 'linear.predictors'\n",
       "10. 'deviance'\n",
       "11. 'aic'\n",
       "12. 'null.deviance'\n",
       "13. 'iter'\n",
       "14. 'weights'\n",
       "15. 'prior.weights'\n",
       "16. 'df.residual'\n",
       "17. 'df.null'\n",
       "18. 'y'\n",
       "19. 'converged'\n",
       "20. 'boundary'\n",
       "21. 'model'\n",
       "22. 'call'\n",
       "23. 'formula'\n",
       "24. 'terms'\n",
       "25. 'data'\n",
       "26. 'offset'\n",
       "27. 'control'\n",
       "28. 'method'\n",
       "29. 'contrasts'\n",
       "30. 'xlevels'\n",
       "\n",
       "\n"
      ],
      "text/plain": [
       " [1] \"coefficients\"      \"residuals\"         \"fitted.values\"    \n",
       " [4] \"effects\"           \"R\"                 \"rank\"             \n",
       " [7] \"qr\"                \"family\"            \"linear.predictors\"\n",
       "[10] \"deviance\"          \"aic\"               \"null.deviance\"    \n",
       "[13] \"iter\"              \"weights\"           \"prior.weights\"    \n",
       "[16] \"df.residual\"       \"df.null\"           \"y\"                \n",
       "[19] \"converged\"         \"boundary\"          \"model\"            \n",
       "[22] \"call\"              \"formula\"           \"terms\"            \n",
       "[25] \"data\"              \"offset\"            \"control\"          \n",
       "[28] \"method\"            \"contrasts\"         \"xlevels\"          "
      ]
     },
     "metadata": {},
     "output_type": "display_data"
    }
   ],
   "source": [
    "names(glm_house) #what parts of the model are callable?"
   ]
  },
  {
   "cell_type": "code",
   "execution_count": 36,
   "metadata": {},
   "outputs": [
    {
     "data": {
      "text/html": [
       "<dl class=dl-horizontal>\n",
       "\t<dt>(Intercept)</dt>\n",
       "\t\t<dd>206855.816908915</dd>\n",
       "\t<dt>median_income</dt>\n",
       "\t\t<dd>82608.9593842246</dd>\n",
       "\t<dt>mean_rooms</dt>\n",
       "\t\t<dd>-9755.4424754269</dd>\n",
       "\t<dt>population</dt>\n",
       "\t\t<dd>-3948.29342917358</dd>\n",
       "</dl>\n"
      ],
      "text/latex": [
       "\\begin{description*}\n",
       "\\item[(Intercept)] 206855.816908915\n",
       "\\item[median\\textbackslash{}\\_income] 82608.9593842246\n",
       "\\item[mean\\textbackslash{}\\_rooms] -9755.4424754269\n",
       "\\item[population] -3948.29342917358\n",
       "\\end{description*}\n"
      ],
      "text/markdown": [
       "(Intercept)\n",
       ":   206855.816908915median_income\n",
       ":   82608.9593842246mean_rooms\n",
       ":   -9755.4424754269population\n",
       ":   -3948.29342917358\n",
       "\n"
      ],
      "text/plain": [
       "  (Intercept) median_income    mean_rooms    population \n",
       "   206855.817     82608.959     -9755.442     -3948.293 "
      ]
     },
     "metadata": {},
     "output_type": "display_data"
    }
   ],
   "source": [
    "glm_house$coefficients "
   ]
  },
  {
   "cell_type": "markdown",
   "metadata": {},
   "source": [
    "Since we scaled the imputs we can say that of the three we looked at, median income had the biggest effect on housing price... but I'm always very careful and google lots before intrepreting coefficients!"
   ]
  },
  {
   "cell_type": "markdown",
   "metadata": {},
   "source": [
    "### Random forest model\n",
    "\n",
    "This algorithm is a bunch of decision trees, that are grown together (hence the forest).\n",
    "At prediction time, they are all evaluated and the mean of their predictions is taken.\n",
    "\n",
    "The thought is that although any one tree may be off by a bit of random error, when you make a whole whack of trees you get a 'wisdom of the crowd' effect where their random errors cancel out and you get a more accurate prediction than any one tree would provide.\n",
    "\n",
    "#### CAM Draw a decision tree"
   ]
  },
  {
   "cell_type": "code",
   "execution_count": 37,
   "metadata": {},
   "outputs": [
    {
     "name": "stderr",
     "output_type": "stream",
     "text": [
      "randomForest 4.6-12\n",
      "Type rfNews() to see new features/changes/bug fixes.\n",
      "\n",
      "Attaching package: ‘randomForest’\n",
      "\n",
      "The following object is masked from ‘package:dplyr’:\n",
      "\n",
      "    combine\n",
      "\n",
      "The following object is masked from ‘package:ggplot2’:\n",
      "\n",
      "    margin\n",
      "\n"
     ]
    }
   ],
   "source": [
    "library('randomForest')"
   ]
  },
  {
   "cell_type": "code",
   "execution_count": 38,
   "metadata": {
    "collapsed": true
   },
   "outputs": [],
   "source": [
    "?randomForest"
   ]
  },
  {
   "cell_type": "code",
   "execution_count": 39,
   "metadata": {},
   "outputs": [
    {
     "data": {
      "text/html": [
       "<ol class=list-inline>\n",
       "\t<li>'NEAR BAY'</li>\n",
       "\t<li>'&lt;1H OCEAN'</li>\n",
       "\t<li>'INLAND'</li>\n",
       "\t<li>'NEAR OCEAN'</li>\n",
       "\t<li>'ISLAND'</li>\n",
       "\t<li>'longitude'</li>\n",
       "\t<li>'latitude'</li>\n",
       "\t<li>'housing_median_age'</li>\n",
       "\t<li>'population'</li>\n",
       "\t<li>'households'</li>\n",
       "\t<li>'median_income'</li>\n",
       "\t<li>'mean_bedrooms'</li>\n",
       "\t<li>'mean_rooms'</li>\n",
       "\t<li>'median_house_value'</li>\n",
       "</ol>\n"
      ],
      "text/latex": [
       "\\begin{enumerate*}\n",
       "\\item 'NEAR BAY'\n",
       "\\item '<1H OCEAN'\n",
       "\\item 'INLAND'\n",
       "\\item 'NEAR OCEAN'\n",
       "\\item 'ISLAND'\n",
       "\\item 'longitude'\n",
       "\\item 'latitude'\n",
       "\\item 'housing\\_median\\_age'\n",
       "\\item 'population'\n",
       "\\item 'households'\n",
       "\\item 'median\\_income'\n",
       "\\item 'mean\\_bedrooms'\n",
       "\\item 'mean\\_rooms'\n",
       "\\item 'median\\_house\\_value'\n",
       "\\end{enumerate*}\n"
      ],
      "text/markdown": [
       "1. 'NEAR BAY'\n",
       "2. '&lt;1H OCEAN'\n",
       "3. 'INLAND'\n",
       "4. 'NEAR OCEAN'\n",
       "5. 'ISLAND'\n",
       "6. 'longitude'\n",
       "7. 'latitude'\n",
       "8. 'housing_median_age'\n",
       "9. 'population'\n",
       "10. 'households'\n",
       "11. 'median_income'\n",
       "12. 'mean_bedrooms'\n",
       "13. 'mean_rooms'\n",
       "14. 'median_house_value'\n",
       "\n",
       "\n"
      ],
      "text/plain": [
       " [1] \"NEAR BAY\"           \"<1H OCEAN\"          \"INLAND\"            \n",
       " [4] \"NEAR OCEAN\"         \"ISLAND\"             \"longitude\"         \n",
       " [7] \"latitude\"           \"housing_median_age\" \"population\"        \n",
       "[10] \"households\"         \"median_income\"      \"mean_bedrooms\"     \n",
       "[13] \"mean_rooms\"         \"median_house_value\""
      ]
     },
     "metadata": {},
     "output_type": "display_data"
    }
   ],
   "source": [
    "names(train)"
   ]
  },
  {
   "cell_type": "markdown",
   "metadata": {},
   "source": [
    "### Split the housing values off from the main dataframe"
   ]
  },
  {
   "cell_type": "code",
   "execution_count": 40,
   "metadata": {},
   "outputs": [
    {
     "data": {
      "text/html": [
       "<ol class=list-inline>\n",
       "\t<li>56700</li>\n",
       "\t<li>143400</li>\n",
       "\t<li>128300</li>\n",
       "\t<li>233200</li>\n",
       "\t<li>110200</li>\n",
       "\t<li>350900</li>\n",
       "</ol>\n"
      ],
      "text/latex": [
       "\\begin{enumerate*}\n",
       "\\item 56700\n",
       "\\item 143400\n",
       "\\item 128300\n",
       "\\item 233200\n",
       "\\item 110200\n",
       "\\item 350900\n",
       "\\end{enumerate*}\n"
      ],
      "text/markdown": [
       "1. 56700\n",
       "2. 143400\n",
       "3. 128300\n",
       "4. 233200\n",
       "5. 110200\n",
       "6. 350900\n",
       "\n",
       "\n"
      ],
      "text/plain": [
       "[1]  56700 143400 128300 233200 110200 350900"
      ]
     },
     "metadata": {},
     "output_type": "display_data"
    },
    {
     "data": {
      "text/html": [
       "<table>\n",
       "<thead><tr><th></th><th scope=col>NEAR BAY</th><th scope=col>&lt;1H OCEAN</th><th scope=col>INLAND</th><th scope=col>NEAR OCEAN</th><th scope=col>ISLAND</th><th scope=col>longitude</th><th scope=col>latitude</th><th scope=col>housing_median_age</th><th scope=col>population</th><th scope=col>households</th><th scope=col>median_income</th><th scope=col>mean_bedrooms</th><th scope=col>mean_rooms</th></tr></thead>\n",
       "<tbody>\n",
       "\t<tr><th scope=row>2418</th><td>0          </td><td>0          </td><td>1          </td><td>0          </td><td>0          </td><td> 0.06473791</td><td> 0.4485767 </td><td>-0.05081113</td><td>-0.08342596</td><td>-0.50882695</td><td>-1.2394168 </td><td>-0.03648780</td><td>-0.4145713 </td></tr>\n",
       "\t<tr><th scope=row>9990</th><td>0          </td><td>0          </td><td>1          </td><td>0          </td><td>0          </td><td>-0.74882545</td><td> 1.6471053 </td><td>-1.08374113</td><td> 1.39212008</td><td> 2.14071836</td><td>-0.7358959 </td><td>-0.19291092</td><td>-0.1004065 </td></tr>\n",
       "\t<tr><th scope=row>13440</th><td>0          </td><td>0          </td><td>1          </td><td>0          </td><td>0          </td><td> 1.07295753</td><td>-0.7218613 </td><td>-0.05081113</td><td> 0.28656434</td><td> 0.06136148</td><td> 0.1404495 </td><td>-0.18700644</td><td> 0.2732884 </td></tr>\n",
       "\t<tr><th scope=row>1412</th><td>1          </td><td>0          </td><td>0          </td><td>0          </td><td>0          </td><td>-1.25293526</td><td> 1.0759315 </td><td> 0.50538194</td><td> 0.35897294</td><td> 0.42492199</td><td> 0.6344959 </td><td>-0.11581168</td><td> 0.2741324 </td></tr>\n",
       "\t<tr><th scope=row>7539</th><td>0          </td><td>1          </td><td>0          </td><td>0          </td><td>0          </td><td> 0.67865382</td><td>-0.8061329 </td><td>-0.20972344</td><td> 1.03802435</td><td> 0.21829408</td><td>-1.0991931 </td><td>-0.03247975</td><td>-0.5151724 </td></tr>\n",
       "\t<tr><th scope=row>4621</th><td>0          </td><td>1          </td><td>0          </td><td>0          </td><td>0          </td><td> 0.62874196</td><td>-0.7265431 </td><td> 1.61776810</td><td> 0.10024464</td><td> 0.24706505</td><td>-0.6573622 </td><td>-0.07763347</td><td>-0.4598522 </td></tr>\n",
       "</tbody>\n",
       "</table>\n"
      ],
      "text/latex": [
       "\\begin{tabular}{r|lllllllllllll}\n",
       "  & NEAR BAY & <1H OCEAN & INLAND & NEAR OCEAN & ISLAND & longitude & latitude & housing\\_median\\_age & population & households & median\\_income & mean\\_bedrooms & mean\\_rooms\\\\\n",
       "\\hline\n",
       "\t2418 & 0           & 0           & 1           & 0           & 0           &  0.06473791 &  0.4485767  & -0.05081113 & -0.08342596 & -0.50882695 & -1.2394168  & -0.03648780 & -0.4145713 \\\\\n",
       "\t9990 & 0           & 0           & 1           & 0           & 0           & -0.74882545 &  1.6471053  & -1.08374113 &  1.39212008 &  2.14071836 & -0.7358959  & -0.19291092 & -0.1004065 \\\\\n",
       "\t13440 & 0           & 0           & 1           & 0           & 0           &  1.07295753 & -0.7218613  & -0.05081113 &  0.28656434 &  0.06136148 &  0.1404495  & -0.18700644 &  0.2732884 \\\\\n",
       "\t1412 & 1           & 0           & 0           & 0           & 0           & -1.25293526 &  1.0759315  &  0.50538194 &  0.35897294 &  0.42492199 &  0.6344959  & -0.11581168 &  0.2741324 \\\\\n",
       "\t7539 & 0           & 1           & 0           & 0           & 0           &  0.67865382 & -0.8061329  & -0.20972344 &  1.03802435 &  0.21829408 & -1.0991931  & -0.03247975 & -0.5151724 \\\\\n",
       "\t4621 & 0           & 1           & 0           & 0           & 0           &  0.62874196 & -0.7265431  &  1.61776810 &  0.10024464 &  0.24706505 & -0.6573622  & -0.07763347 & -0.4598522 \\\\\n",
       "\\end{tabular}\n"
      ],
      "text/markdown": [
       "\n",
       "| <!--/--> | NEAR BAY | <1H OCEAN | INLAND | NEAR OCEAN | ISLAND | longitude | latitude | housing_median_age | population | households | median_income | mean_bedrooms | mean_rooms | \n",
       "|---|---|---|---|---|---|\n",
       "| 2418 | 0           | 0           | 1           | 0           | 0           |  0.06473791 |  0.4485767  | -0.05081113 | -0.08342596 | -0.50882695 | -1.2394168  | -0.03648780 | -0.4145713  | \n",
       "| 9990 | 0           | 0           | 1           | 0           | 0           | -0.74882545 |  1.6471053  | -1.08374113 |  1.39212008 |  2.14071836 | -0.7358959  | -0.19291092 | -0.1004065  | \n",
       "| 13440 | 0           | 0           | 1           | 0           | 0           |  1.07295753 | -0.7218613  | -0.05081113 |  0.28656434 |  0.06136148 |  0.1404495  | -0.18700644 |  0.2732884  | \n",
       "| 1412 | 1           | 0           | 0           | 0           | 0           | -1.25293526 |  1.0759315  |  0.50538194 |  0.35897294 |  0.42492199 |  0.6344959  | -0.11581168 |  0.2741324  | \n",
       "| 7539 | 0           | 1           | 0           | 0           | 0           |  0.67865382 | -0.8061329  | -0.20972344 |  1.03802435 |  0.21829408 | -1.0991931  | -0.03247975 | -0.5151724  | \n",
       "| 4621 | 0           | 1           | 0           | 0           | 0           |  0.62874196 | -0.7265431  |  1.61776810 |  0.10024464 |  0.24706505 | -0.6573622  | -0.07763347 | -0.4598522  | \n",
       "\n",
       "\n"
      ],
      "text/plain": [
       "      NEAR BAY <1H OCEAN INLAND NEAR OCEAN ISLAND longitude   latitude  \n",
       "2418  0        0         1      0          0       0.06473791  0.4485767\n",
       "9990  0        0         1      0          0      -0.74882545  1.6471053\n",
       "13440 0        0         1      0          0       1.07295753 -0.7218613\n",
       "1412  1        0         0      0          0      -1.25293526  1.0759315\n",
       "7539  0        1         0      0          0       0.67865382 -0.8061329\n",
       "4621  0        1         0      0          0       0.62874196 -0.7265431\n",
       "      housing_median_age population  households  median_income mean_bedrooms\n",
       "2418  -0.05081113        -0.08342596 -0.50882695 -1.2394168    -0.03648780  \n",
       "9990  -1.08374113         1.39212008  2.14071836 -0.7358959    -0.19291092  \n",
       "13440 -0.05081113         0.28656434  0.06136148  0.1404495    -0.18700644  \n",
       "1412   0.50538194         0.35897294  0.42492199  0.6344959    -0.11581168  \n",
       "7539  -0.20972344         1.03802435  0.21829408 -1.0991931    -0.03247975  \n",
       "4621   1.61776810         0.10024464  0.24706505 -0.6573622    -0.07763347  \n",
       "      mean_rooms\n",
       "2418  -0.4145713\n",
       "9990  -0.1004065\n",
       "13440  0.2732884\n",
       "1412   0.2741324\n",
       "7539  -0.5151724\n",
       "4621  -0.4598522"
      ]
     },
     "metadata": {},
     "output_type": "display_data"
    }
   ],
   "source": [
    "set.seed(1738)\n",
    "\n",
    "train_y = train[,'median_house_value']\n",
    "train_x = train[, names(train) !='median_house_value']\n",
    "\n",
    "head(train_y)\n",
    "head(train_x)\n"
   ]
  },
  {
   "cell_type": "markdown",
   "metadata": {},
   "source": [
    "### Below we train the model, building 500 trees\n",
    "\n",
    "### Training means that all the decision trees are built\n",
    "### It takes 5-10min on my little macbook so I've pre run it"
   ]
  },
  {
   "cell_type": "code",
   "execution_count": 41,
   "metadata": {
    "collapsed": true
   },
   "outputs": [],
   "source": [
    "#some people like weird r format like this... I find it causes headaches\n",
    "#rf_model = randomForest(median_house_value~. , data = train, ntree =500, importance = TRUE)\n",
    "\n",
    "#I find this more clear\n",
    "rf_model = randomForest(train_x, y = train_y , ntree = 500, importance = TRUE)\n"
   ]
  },
  {
   "cell_type": "code",
   "execution_count": 42,
   "metadata": {},
   "outputs": [
    {
     "data": {
      "text/html": [
       "<ol class=list-inline>\n",
       "\t<li>'call'</li>\n",
       "\t<li>'type'</li>\n",
       "\t<li>'predicted'</li>\n",
       "\t<li>'mse'</li>\n",
       "\t<li>'rsq'</li>\n",
       "\t<li>'oob.times'</li>\n",
       "\t<li>'importance'</li>\n",
       "\t<li>'importanceSD'</li>\n",
       "\t<li>'localImportance'</li>\n",
       "\t<li>'proximity'</li>\n",
       "\t<li>'ntree'</li>\n",
       "\t<li>'mtry'</li>\n",
       "\t<li>'forest'</li>\n",
       "\t<li>'coefs'</li>\n",
       "\t<li>'y'</li>\n",
       "\t<li>'test'</li>\n",
       "\t<li>'inbag'</li>\n",
       "</ol>\n"
      ],
      "text/latex": [
       "\\begin{enumerate*}\n",
       "\\item 'call'\n",
       "\\item 'type'\n",
       "\\item 'predicted'\n",
       "\\item 'mse'\n",
       "\\item 'rsq'\n",
       "\\item 'oob.times'\n",
       "\\item 'importance'\n",
       "\\item 'importanceSD'\n",
       "\\item 'localImportance'\n",
       "\\item 'proximity'\n",
       "\\item 'ntree'\n",
       "\\item 'mtry'\n",
       "\\item 'forest'\n",
       "\\item 'coefs'\n",
       "\\item 'y'\n",
       "\\item 'test'\n",
       "\\item 'inbag'\n",
       "\\end{enumerate*}\n"
      ],
      "text/markdown": [
       "1. 'call'\n",
       "2. 'type'\n",
       "3. 'predicted'\n",
       "4. 'mse'\n",
       "5. 'rsq'\n",
       "6. 'oob.times'\n",
       "7. 'importance'\n",
       "8. 'importanceSD'\n",
       "9. 'localImportance'\n",
       "10. 'proximity'\n",
       "11. 'ntree'\n",
       "12. 'mtry'\n",
       "13. 'forest'\n",
       "14. 'coefs'\n",
       "15. 'y'\n",
       "16. 'test'\n",
       "17. 'inbag'\n",
       "\n",
       "\n"
      ],
      "text/plain": [
       " [1] \"call\"            \"type\"            \"predicted\"       \"mse\"            \n",
       " [5] \"rsq\"             \"oob.times\"       \"importance\"      \"importanceSD\"   \n",
       " [9] \"localImportance\" \"proximity\"       \"ntree\"           \"mtry\"           \n",
       "[13] \"forest\"          \"coefs\"           \"y\"               \"test\"           \n",
       "[17] \"inbag\"          "
      ]
     },
     "metadata": {},
     "output_type": "display_data"
    }
   ],
   "source": [
    "names(rf_model) #these are all the different things you can call from the model."
   ]
  },
  {
   "cell_type": "markdown",
   "metadata": {},
   "source": [
    "### Feature importance\n",
    "\n",
    "Percentage increase mean squared error is a measure of feature importance. It is defined as the measure of the increase in mean squared error of predictions when the given variable is randomly shuffled, thereby acting as a metric of that given variable’s importance in the performance of the model. So higher number  ==  more important predictor."
   ]
  },
  {
   "cell_type": "code",
   "execution_count": 46,
   "metadata": {},
   "outputs": [
    {
     "data": {
      "text/html": [
       "<table>\n",
       "<thead><tr><th></th><th scope=col>%IncMSE</th><th scope=col>IncNodePurity</th></tr></thead>\n",
       "<tbody>\n",
       "\t<tr><th scope=row>NEAR BAY</th><td>5.248071e+08</td><td>1.681800e+12</td></tr>\n",
       "\t<tr><th scope=row>&lt;1H OCEAN</th><td>1.421534e+09</td><td>4.616738e+12</td></tr>\n",
       "\t<tr><th scope=row>INLAND</th><td>3.582875e+09</td><td>2.886397e+13</td></tr>\n",
       "\t<tr><th scope=row>NEAR OCEAN</th><td>4.313560e+08</td><td>2.343005e+12</td></tr>\n",
       "\t<tr><th scope=row>ISLAND</th><td>7.462338e+04</td><td>2.175970e+10</td></tr>\n",
       "\t<tr><th scope=row>longitude</th><td>6.560513e+09</td><td>2.558174e+13</td></tr>\n",
       "\t<tr><th scope=row>latitude</th><td>5.349504e+09</td><td>2.223257e+13</td></tr>\n",
       "\t<tr><th scope=row>housing_median_age</th><td>1.093870e+09</td><td>9.862758e+12</td></tr>\n",
       "\t<tr><th scope=row>population</th><td>1.087068e+09</td><td>7.511892e+12</td></tr>\n",
       "\t<tr><th scope=row>households</th><td>1.177610e+09</td><td>7.888419e+12</td></tr>\n",
       "\t<tr><th scope=row>median_income</th><td>8.475619e+09</td><td>7.346018e+13</td></tr>\n",
       "\t<tr><th scope=row>mean_bedrooms</th><td>4.083941e+08</td><td>7.696691e+12</td></tr>\n",
       "\t<tr><th scope=row>mean_rooms</th><td>1.869396e+09</td><td>2.145691e+13</td></tr>\n",
       "</tbody>\n",
       "</table>\n"
      ],
      "text/latex": [
       "\\begin{tabular}{r|ll}\n",
       "  & \\%IncMSE & IncNodePurity\\\\\n",
       "\\hline\n",
       "\tNEAR BAY & 5.248071e+08 & 1.681800e+12\\\\\n",
       "\t<1H OCEAN & 1.421534e+09 & 4.616738e+12\\\\\n",
       "\tINLAND & 3.582875e+09 & 2.886397e+13\\\\\n",
       "\tNEAR OCEAN & 4.313560e+08 & 2.343005e+12\\\\\n",
       "\tISLAND & 7.462338e+04 & 2.175970e+10\\\\\n",
       "\tlongitude & 6.560513e+09 & 2.558174e+13\\\\\n",
       "\tlatitude & 5.349504e+09 & 2.223257e+13\\\\\n",
       "\thousing\\_median\\_age & 1.093870e+09 & 9.862758e+12\\\\\n",
       "\tpopulation & 1.087068e+09 & 7.511892e+12\\\\\n",
       "\thouseholds & 1.177610e+09 & 7.888419e+12\\\\\n",
       "\tmedian\\_income & 8.475619e+09 & 7.346018e+13\\\\\n",
       "\tmean\\_bedrooms & 4.083941e+08 & 7.696691e+12\\\\\n",
       "\tmean\\_rooms & 1.869396e+09 & 2.145691e+13\\\\\n",
       "\\end{tabular}\n"
      ],
      "text/markdown": [
       "\n",
       "| <!--/--> | %IncMSE | IncNodePurity | \n",
       "|---|---|---|---|---|---|---|---|---|---|---|---|---|\n",
       "| NEAR BAY | 5.248071e+08 | 1.681800e+12 | \n",
       "| <1H OCEAN | 1.421534e+09 | 4.616738e+12 | \n",
       "| INLAND | 3.582875e+09 | 2.886397e+13 | \n",
       "| NEAR OCEAN | 4.313560e+08 | 2.343005e+12 | \n",
       "| ISLAND | 7.462338e+04 | 2.175970e+10 | \n",
       "| longitude | 6.560513e+09 | 2.558174e+13 | \n",
       "| latitude | 5.349504e+09 | 2.223257e+13 | \n",
       "| housing_median_age | 1.093870e+09 | 9.862758e+12 | \n",
       "| population | 1.087068e+09 | 7.511892e+12 | \n",
       "| households | 1.177610e+09 | 7.888419e+12 | \n",
       "| median_income | 8.475619e+09 | 7.346018e+13 | \n",
       "| mean_bedrooms | 4.083941e+08 | 7.696691e+12 | \n",
       "| mean_rooms | 1.869396e+09 | 2.145691e+13 | \n",
       "\n",
       "\n"
      ],
      "text/plain": [
       "                   %IncMSE      IncNodePurity\n",
       "NEAR BAY           5.248071e+08 1.681800e+12 \n",
       "<1H OCEAN          1.421534e+09 4.616738e+12 \n",
       "INLAND             3.582875e+09 2.886397e+13 \n",
       "NEAR OCEAN         4.313560e+08 2.343005e+12 \n",
       "ISLAND             7.462338e+04 2.175970e+10 \n",
       "longitude          6.560513e+09 2.558174e+13 \n",
       "latitude           5.349504e+09 2.223257e+13 \n",
       "housing_median_age 1.093870e+09 9.862758e+12 \n",
       "population         1.087068e+09 7.511892e+12 \n",
       "households         1.177610e+09 7.888419e+12 \n",
       "median_income      8.475619e+09 7.346018e+13 \n",
       "mean_bedrooms      4.083941e+08 7.696691e+12 \n",
       "mean_rooms         1.869396e+09 2.145691e+13 "
      ]
     },
     "metadata": {},
     "output_type": "display_data"
    }
   ],
   "source": [
    "importance_dat = rf_model$importance\n",
    "importance_dat"
   ]
  },
  {
   "cell_type": "code",
   "execution_count": 45,
   "metadata": {},
   "outputs": [
    {
     "data": {
      "text/html": [
       "<dl class=dl-horizontal>\n",
       "\t<dt>median_income</dt>\n",
       "\t\t<dd>8475619192.77534</dd>\n",
       "\t<dt>longitude</dt>\n",
       "\t\t<dd>6560512742.79027</dd>\n",
       "\t<dt>latitude</dt>\n",
       "\t\t<dd>5349503890.35015</dd>\n",
       "\t<dt>INLAND</dt>\n",
       "\t\t<dd>3582874795.60259</dd>\n",
       "\t<dt>mean_rooms</dt>\n",
       "\t\t<dd>1869396303.54696</dd>\n",
       "\t<dt>&lt;1H OCEAN</dt>\n",
       "\t\t<dd>1421534245.87034</dd>\n",
       "\t<dt>households</dt>\n",
       "\t\t<dd>1177609950.292</dd>\n",
       "\t<dt>housing_median_age</dt>\n",
       "\t\t<dd>1093870356.63081</dd>\n",
       "\t<dt>population</dt>\n",
       "\t\t<dd>1087067943.39175</dd>\n",
       "\t<dt>NEAR BAY</dt>\n",
       "\t\t<dd>524807128.801841</dd>\n",
       "\t<dt>NEAR OCEAN</dt>\n",
       "\t\t<dd>431355963.935321</dd>\n",
       "\t<dt>mean_bedrooms</dt>\n",
       "\t\t<dd>408394088.664154</dd>\n",
       "\t<dt>ISLAND</dt>\n",
       "\t\t<dd>74623.3795827309</dd>\n",
       "</dl>\n"
      ],
      "text/latex": [
       "\\begin{description*}\n",
       "\\item[median\\textbackslash{}\\_income] 8475619192.77534\n",
       "\\item[longitude] 6560512742.79027\n",
       "\\item[latitude] 5349503890.35015\n",
       "\\item[INLAND] 3582874795.60259\n",
       "\\item[mean\\textbackslash{}\\_rooms] 1869396303.54696\n",
       "\\item[<1H OCEAN] 1421534245.87034\n",
       "\\item[households] 1177609950.292\n",
       "\\item[housing\\textbackslash{}\\_median\\textbackslash{}\\_age] 1093870356.63081\n",
       "\\item[population] 1087067943.39175\n",
       "\\item[NEAR BAY] 524807128.801841\n",
       "\\item[NEAR OCEAN] 431355963.935321\n",
       "\\item[mean\\textbackslash{}\\_bedrooms] 408394088.664154\n",
       "\\item[ISLAND] 74623.3795827309\n",
       "\\end{description*}\n"
      ],
      "text/markdown": [
       "median_income\n",
       ":   8475619192.77534longitude\n",
       ":   6560512742.79027latitude\n",
       ":   5349503890.35015INLAND\n",
       ":   3582874795.60259mean_rooms\n",
       ":   1869396303.54696&amp;lt;1H OCEAN\n",
       ":   1421534245.87034households\n",
       ":   1177609950.292housing_median_age\n",
       ":   1093870356.63081population\n",
       ":   1087067943.39175NEAR BAY\n",
       ":   524807128.801841NEAR OCEAN\n",
       ":   431355963.935321mean_bedrooms\n",
       ":   408394088.664154ISLAND\n",
       ":   74623.3795827309\n",
       "\n"
      ],
      "text/plain": [
       "     median_income          longitude           latitude             INLAND \n",
       "      8.475619e+09       6.560513e+09       5.349504e+09       3.582875e+09 \n",
       "        mean_rooms          <1H OCEAN         households housing_median_age \n",
       "      1.869396e+09       1.421534e+09       1.177610e+09       1.093870e+09 \n",
       "        population           NEAR BAY         NEAR OCEAN      mean_bedrooms \n",
       "      1.087068e+09       5.248071e+08       4.313560e+08       4.083941e+08 \n",
       "            ISLAND \n",
       "      7.462338e+04 "
      ]
     },
     "metadata": {},
     "output_type": "display_data"
    }
   ],
   "source": [
    "sorted_predictors = sort(importance_dat[,1], decreasing=TRUE)\n",
    "sorted_predictors"
   ]
  },
  {
   "cell_type": "markdown",
   "metadata": {},
   "source": [
    "### The out-of-bag (oob) error estimate\n",
    "In random forests, there is no need for cross-validation or a separate test set to get an unbiased estimate of the test set error. It is estimated internally, during the run, as follows:\n",
    "\n",
    "Each tree was constructed using a different bootstrap sample from the original data. About one-third of the cases are left out of the bootstrap sample and not used in the construction of the kth tree. So any tree not contianing a given sample can be used to predict that sample's y value"
   ]
  },
  {
   "cell_type": "code",
   "execution_count": 47,
   "metadata": {
    "collapsed": true
   },
   "outputs": [],
   "source": [
    "oob_prediction = predict(rf_model) #leaving out a data source forces OOB predictions"
   ]
  },
  {
   "cell_type": "code",
   "execution_count": 48,
   "metadata": {
    "scrolled": true
   },
   "outputs": [
    {
     "data": {
      "text/html": [
       "48988.9895321515"
      ],
      "text/latex": [
       "48988.9895321515"
      ],
      "text/markdown": [
       "48988.9895321515"
      ],
      "text/plain": [
       "[1] 48988.99"
      ]
     },
     "metadata": {},
     "output_type": "display_data"
    }
   ],
   "source": [
    "#you may have noticed that this is avaliable using the $mse in the model options.\n",
    "#but this way we learn stuff!\n",
    "train_mse = mean(as.numeric((oob_prediction - train_y)^2))\n",
    "oob_rmse = sqrt(train_mse)\n",
    "oob_rmse"
   ]
  },
  {
   "cell_type": "markdown",
   "metadata": {},
   "source": [
    "So even using a random forest of only 500 decision trees we are able to predict the median price of a house in a given district to within $49,000 of the actual median house price. This can serve as our bechmark moving forward and trying other models. "
   ]
  },
  {
   "cell_type": "markdown",
   "metadata": {},
   "source": [
    "How well does the model predict on the test data?"
   ]
  },
  {
   "cell_type": "code",
   "execution_count": 49,
   "metadata": {},
   "outputs": [
    {
     "data": {
      "text/html": [
       "48620.1037633945"
      ],
      "text/latex": [
       "48620.1037633945"
      ],
      "text/markdown": [
       "48620.1037633945"
      ],
      "text/plain": [
       "[1] 48620.1"
      ]
     },
     "metadata": {},
     "output_type": "display_data"
    }
   ],
   "source": [
    "test_y = test[,'median_house_value']\n",
    "test_x = test[, names(test) !='median_house_value']\n",
    "\n",
    "\n",
    "y_pred = predict(rf_model , test_x)\n",
    "test_mse = mean(((y_pred - test_y)^2))\n",
    "test_rmse = sqrt(test_mse)\n",
    "test_rmse"
   ]
  },
  {
   "cell_type": "markdown",
   "metadata": {},
   "source": [
    "Well that looks great! Our model scored roughly the same on the training and testing data, suggesting that it is not overfit and that it makes good predictions."
   ]
  },
  {
   "cell_type": "markdown",
   "metadata": {},
   "source": [
    "## Step 5. Next Steps\n",
    "\n",
    "So above we have covered the basics of cleaning data and getting a machine learning algorithm up and running in R. But I've on purpose left some room for improvement.\n",
    "\n",
    "The obvious way to improve the model is to provide it with better data. Recall our columns:\n",
    "\n",
    "longitude\n",
    "latitude\n",
    "housing_median_age\n",
    "total_rooms\n",
    "total_bedrooms\n",
    "population\n",
    "households\n",
    "median_income\n",
    "median_house_value\n",
    "ocean_proximity\n",
    "\n",
    "### Suggestions on ways to improve the results\n",
    "\n",
    "1. Earlier I had mentioned removing the samples with median_house_prices == $500,000 ... someone can check if this does improve the result or not!\n",
    "\n",
    "2 . I've not made any cool graphs here... you could visualize the house locations in california using the latitude and longitude data.\n",
    "\n",
    "3 .Why not use your R skills to build new data! One suggestion would be to take the longitude and latitude and work with these data. Based of the geospatial tutorials earlier in this semester you could try to find things like 'distance to closest city with 1 million people' or other location based stats. This is called feature engineering and data scientists get paid big bucks to do it effectively!\n",
    "\n",
    "4. You may also wish to branch out and try some other models to see if they improve over the random forest benchmark we have set. Note this is not an exhaustive list but a starting point.\n",
    "\n",
    "Tree based methods:\n",
    "\n",
    "gradient boosting - library(gbm)\n",
    "\n",
    "extreme gradient boosting - library(xgb)\n",
    "\n",
    "Other fun methods:\n",
    "\n",
    "support vevtor machines - library(e1071)\n",
    "\n",
    "neural networks - library(neuralnet)\n",
    "\n",
    "### Hyperparameters and Grid search -- next week if people are interested\n",
    "\n",
    "When tuning models the next thing to worry about is the hyperparameters. All this means is the different options you pass into a model when you initialze it. i.e. the hyperparameter in out random forest model was n_tree = x, we chose x = 500, but we could have tried x = 2500, x = 1500, x = 100000 etc. \n",
    "\n",
    "Grid search is a common method to find the best combination of hyperparameters (as there are often more than the 1 we see in the random forest example!). Essentially this is where you make every combination of a set of paramaters and run a cross validation on each set, seeing which set gives the best predictions. An alternative is random search. When the number of hyperparameters is high then the computational load of a full grid search may be too much, so a random search takes a subset of the combinations and finds the best one in the random sample (sounds like a crapshoot but it actually works well!). These methods can be implemented easily using a for loop or two... there are also packages avaliable to help with these tasks.\n",
    "\n",
    "Here we exit the scope of what I can cover in a short tutorial, look at the r package 'caret' it has great functions for streamling things like grid searches for the best parameters. http://caret.r-forge.r-project.org/\n",
    "\n",
    "\n",
    "## Have you made a sweet model that predicts well or taught you something?\n",
    "If so, you can submit the script to kaggle here: https://www.kaggle.com/camnugent/california-housing-prices\n",
    "\n",
    "You will need an account, then submit a kernel using the 'California Housing prices' \n",
    "\n",
    "You can put a script or your own kernel (or fork this document and make a better version) up for the world to enjoy! I promise to upvote you if you do."
   ]
  },
  {
   "cell_type": "markdown",
   "metadata": {},
   "source": [
    "\n",
    "## Making your own models? Go forth with the train and test data in hand to make your machine learn something!"
   ]
  }
 ],
 "metadata": {
  "kernelspec": {
   "display_name": "R",
   "language": "R",
   "name": "ir"
  },
  "language_info": {
   "codemirror_mode": "r",
   "file_extension": ".r",
   "mimetype": "text/x-r-source",
   "name": "R",
   "pygments_lexer": "r",
   "version": "3.3.2"
  }
 },
 "nbformat": 4,
 "nbformat_minor": 2
}
