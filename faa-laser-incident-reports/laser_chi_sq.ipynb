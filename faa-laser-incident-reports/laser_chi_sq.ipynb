{
  "cells": [
    {
      "metadata": {
        "_uuid": "b6885917197b21fb15f68053fc12299d59045029",
        "trusted": false,
        "_cell_guid": "0bbd2850-0d01-4e22-9d6f-9d914577b869"
      },
      "cell_type": "markdown",
      "source": "Looking at the data source https://www.kaggle.com/crawford/laser-incident-report/kernels I wished to test the hypothesis that the number of laser incidents (people shining laser pointers at airplanes) would not be equal across all days of the week. To do this I first manipulated the dataframes using this script( https://www.kaggle.com/camnugent/faa-laser-date-and-time-cleanup ) to merge the .csv files and remove the Totals rows. With that done I loaded the new dataframe into R and began to explore the hypothesis that there are unequal numbers of laser incidents across the days of the week.\n\nH0 =  laser incidents occur with equal probability on all days of the week\nHA = the probability of laser incidents is not equal across all days of the week",
      "outputs": [],
      "execution_count": null
    },
    {
      "metadata": {
        "trusted": true,
        "_uuid": "3f87cfb68649331a5fdee7cbd68518d3bce418eb"
      },
      "cell_type": "code",
      "source": "laser_dat = read.csv('../input/adjusted_laser_data.csv')\nhead(laser_dat)",
      "execution_count": 2,
      "outputs": [
        {
          "output_type": "display_data",
          "data": {
            "text/plain": "  X ACID    No..A.C TYPE.A.C ALT   MAJOR.CITY COLOR Injury.Reported\n1 0 AIR1    1       HELO     2000  LEX        Green NO             \n2 1 ASA513  1       B737     10000 LAX        Green NO             \n3 2 EGF3002 1       E135     7000  LAX        Green NO             \n4 3 EGF3086 1       E135     7000  LAX        Green NO             \n5 4 JBU300  1       A320     12500 SLI        Green NO             \n6 5 JBU303  1       A320     2000  LGB        Green NO             \n  CITY         STATE      hr_adj date_time     day_of_week holidays\n1 Lexington    Kentucky   1      10-01-01 1:02 Friday      TRUE    \n2 Los Angeles  California 4      10-01-01 4:03 Friday      TRUE    \n3 Los Angeles  California 2      10-01-01 2:46 Friday      TRUE    \n4 Los Angeles  California 1      10-01-01 1:57 Friday      TRUE    \n5 Los Alamitos California 2      10-01-01 2:58 Friday      TRUE    \n6 Los Angeles  California 2      10-01-01 2:55 Friday      TRUE    ",
            "text/latex": "\\begin{tabular}{r|llllllllllllll}\n X & ACID & No..A.C & TYPE.A.C & ALT & MAJOR.CITY & COLOR & Injury.Reported & CITY & STATE & hr\\_adj & date\\_time & day\\_of\\_week & holidays\\\\\n\\hline\n\t 0             & AIR1          & 1             & HELO          & 2000          & LEX           & Green         & NO            & Lexington     & Kentucky      & 1             & 10-01-01 1:02 & Friday        & TRUE         \\\\\n\t 1             & ASA513        & 1             & B737          & 10000         & LAX           & Green         & NO            & Los Angeles   & California    & 4             & 10-01-01 4:03 & Friday        & TRUE         \\\\\n\t 2             & EGF3002       & 1             & E135          & 7000          & LAX           & Green         & NO            & Los Angeles   & California    & 2             & 10-01-01 2:46 & Friday        & TRUE         \\\\\n\t 3             & EGF3086       & 1             & E135          & 7000          & LAX           & Green         & NO            & Los Angeles   & California    & 1             & 10-01-01 1:57 & Friday        & TRUE         \\\\\n\t 4             & JBU300        & 1             & A320          & 12500         & SLI           & Green         & NO            & Los Alamitos  & California    & 2             & 10-01-01 2:58 & Friday        & TRUE         \\\\\n\t 5             & JBU303        & 1             & A320          & 2000          & LGB           & Green         & NO            & Los Angeles   & California    & 2             & 10-01-01 2:55 & Friday        & TRUE         \\\\\n\\end{tabular}\n",
            "text/markdown": "\nX | ACID | No..A.C | TYPE.A.C | ALT | MAJOR.CITY | COLOR | Injury.Reported | CITY | STATE | hr_adj | date_time | day_of_week | holidays | \n|---|---|---|---|---|---|\n| 0             | AIR1          | 1             | HELO          | 2000          | LEX           | Green         | NO            | Lexington     | Kentucky      | 1             | 10-01-01 1:02 | Friday        | TRUE          | \n| 1             | ASA513        | 1             | B737          | 10000         | LAX           | Green         | NO            | Los Angeles   | California    | 4             | 10-01-01 4:03 | Friday        | TRUE          | \n| 2             | EGF3002       | 1             | E135          | 7000          | LAX           | Green         | NO            | Los Angeles   | California    | 2             | 10-01-01 2:46 | Friday        | TRUE          | \n| 3             | EGF3086       | 1             | E135          | 7000          | LAX           | Green         | NO            | Los Angeles   | California    | 1             | 10-01-01 1:57 | Friday        | TRUE          | \n| 4             | JBU300        | 1             | A320          | 12500         | SLI           | Green         | NO            | Los Alamitos  | California    | 2             | 10-01-01 2:58 | Friday        | TRUE          | \n| 5             | JBU303        | 1             | A320          | 2000          | LGB           | Green         | NO            | Los Angeles   | California    | 2             | 10-01-01 2:55 | Friday        | TRUE          | \n\n\n",
            "text/html": "<table>\n<thead><tr><th scope=col>X</th><th scope=col>ACID</th><th scope=col>No..A.C</th><th scope=col>TYPE.A.C</th><th scope=col>ALT</th><th scope=col>MAJOR.CITY</th><th scope=col>COLOR</th><th scope=col>Injury.Reported</th><th scope=col>CITY</th><th scope=col>STATE</th><th scope=col>hr_adj</th><th scope=col>date_time</th><th scope=col>day_of_week</th><th scope=col>holidays</th></tr></thead>\n<tbody>\n\t<tr><td>0            </td><td>AIR1         </td><td>1            </td><td>HELO         </td><td>2000         </td><td>LEX          </td><td>Green        </td><td>NO           </td><td>Lexington    </td><td>Kentucky     </td><td>1            </td><td>10-01-01 1:02</td><td>Friday       </td><td>TRUE         </td></tr>\n\t<tr><td>1            </td><td>ASA513       </td><td>1            </td><td>B737         </td><td>10000        </td><td>LAX          </td><td>Green        </td><td>NO           </td><td>Los Angeles  </td><td>California   </td><td>4            </td><td>10-01-01 4:03</td><td>Friday       </td><td>TRUE         </td></tr>\n\t<tr><td>2            </td><td>EGF3002      </td><td>1            </td><td>E135         </td><td>7000         </td><td>LAX          </td><td>Green        </td><td>NO           </td><td>Los Angeles  </td><td>California   </td><td>2            </td><td>10-01-01 2:46</td><td>Friday       </td><td>TRUE         </td></tr>\n\t<tr><td>3            </td><td>EGF3086      </td><td>1            </td><td>E135         </td><td>7000         </td><td>LAX          </td><td>Green        </td><td>NO           </td><td>Los Angeles  </td><td>California   </td><td>1            </td><td>10-01-01 1:57</td><td>Friday       </td><td>TRUE         </td></tr>\n\t<tr><td>4            </td><td>JBU300       </td><td>1            </td><td>A320         </td><td>12500        </td><td>SLI          </td><td>Green        </td><td>NO           </td><td>Los Alamitos </td><td>California   </td><td>2            </td><td>10-01-01 2:58</td><td>Friday       </td><td>TRUE         </td></tr>\n\t<tr><td>5            </td><td>JBU303       </td><td>1            </td><td>A320         </td><td>2000         </td><td>LGB          </td><td>Green        </td><td>NO           </td><td>Los Angeles  </td><td>California   </td><td>2            </td><td>10-01-01 2:55</td><td>Friday       </td><td>TRUE         </td></tr>\n</tbody>\n</table>\n"
          },
          "metadata": {}
        }
      ]
    },
    {
      "metadata": {
        "_uuid": "cb7d218afbabe84fe129e03520933846dfdcd4d9"
      },
      "cell_type": "markdown",
      "source": "I then set the order of the factors and grouped the incidents into a table",
      "outputs": [],
      "execution_count": null
    },
    {
      "metadata": {
        "trusted": true,
        "_uuid": "246d7f70ae8872004e30e11b086fcc041d7bd834"
      },
      "cell_type": "code",
      "source": "\nlaser_dat$day_of_week = factor(laser_dat$day_of_week,c('Monday','Tuesday','Wednesday','Thursday','Friday','Saturday','Sunday'))\nday_breakdown = table(laser_dat$day_of_week)\nday_breakdown\n",
      "execution_count": 3,
      "outputs": [
        {
          "output_type": "display_data",
          "data": {
            "text/plain": "\n   Monday   Tuesday Wednesday  Thursday    Friday  Saturday    Sunday \n     2272      2375      2473      2498      2932      2806      2327 "
          },
          "metadata": {}
        }
      ]
    },
    {
      "metadata": {
        "_uuid": "857ad5bbeaff7cd78bcbc512b48a111aa6923b9d"
      },
      "cell_type": "markdown",
      "source": "Eyeballing those numbers there does appear to be some variance. How do they look on a barplot?",
      "outputs": [],
      "execution_count": null
    },
    {
      "metadata": {
        "trusted": true,
        "_uuid": "27886c3d97f3846488e615968d5aa0dc5fbf9b76"
      },
      "cell_type": "code",
      "source": "barplot(day_breakdown,ylim=c(0,3000))",
      "execution_count": 4,
      "outputs": [
        {
          "output_type": "display_data",
          "data": {
            "image/png": "[encoded data removed]"
          },
          "metadata": {}
        }
      ]
    },
    {
      "metadata": {
        "_uuid": "815e9c233291f6c726e772dda3aa722e9c6ee3ab"
      },
      "cell_type": "markdown",
      "source": "Surge near the weeked (Friday/Saturday) by the looks of things. Running a chi-sq test can we detect a significant difference?",
      "outputs": [],
      "execution_count": null
    },
    {
      "metadata": {
        "trusted": true,
        "_uuid": "d73c6877c610b7e4508b0a63a5b2cc2ae1994c3c"
      },
      "cell_type": "code",
      "source": "results = chisq.test(day_breakdown)\nresults",
      "execution_count": 5,
      "outputs": [
        {
          "output_type": "display_data",
          "data": {
            "text/plain": "\n\tChi-squared test for given probabilities\n\ndata:  day_breakdown\nX-squared = 147.95, df = 6, p-value < 2.2e-16\n"
          },
          "metadata": {}
        }
      ]
    },
    {
      "metadata": {
        "trusted": true,
        "_uuid": "b9e1f2b5bb6c7094813840fb3df728f03d8cec9a"
      },
      "cell_type": "code",
      "source": "results$observed",
      "execution_count": 6,
      "outputs": [
        {
          "output_type": "display_data",
          "data": {
            "text/plain": "\n   Monday   Tuesday Wednesday  Thursday    Friday  Saturday    Sunday \n     2272      2375      2473      2498      2932      2806      2327 "
          },
          "metadata": {}
        }
      ]
    },
    {
      "metadata": {
        "trusted": true,
        "_uuid": "8548754e57e90400f4d1d0dc0e73d38949d14545"
      },
      "cell_type": "code",
      "source": "results$expected",
      "execution_count": 7,
      "outputs": [
        {
          "output_type": "display_data",
          "data": {
            "text/plain": "   Monday   Tuesday Wednesday  Thursday    Friday  Saturday    Sunday \n 2526.143  2526.143  2526.143  2526.143  2526.143  2526.143  2526.143 ",
            "text/latex": "\\begin{description*}\n\\item[Monday] 2526.14285714286\n\\item[Tuesday] 2526.14285714286\n\\item[Wednesday] 2526.14285714286\n\\item[Thursday] 2526.14285714286\n\\item[Friday] 2526.14285714286\n\\item[Saturday] 2526.14285714286\n\\item[Sunday] 2526.14285714286\n\\end{description*}\n",
            "text/markdown": "Monday\n:   2526.14285714286Tuesday\n:   2526.14285714286Wednesday\n:   2526.14285714286Thursday\n:   2526.14285714286Friday\n:   2526.14285714286Saturday\n:   2526.14285714286Sunday\n:   2526.14285714286\n\n",
            "text/html": "<dl class=dl-horizontal>\n\t<dt>Monday</dt>\n\t\t<dd>2526.14285714286</dd>\n\t<dt>Tuesday</dt>\n\t\t<dd>2526.14285714286</dd>\n\t<dt>Wednesday</dt>\n\t\t<dd>2526.14285714286</dd>\n\t<dt>Thursday</dt>\n\t\t<dd>2526.14285714286</dd>\n\t<dt>Friday</dt>\n\t\t<dd>2526.14285714286</dd>\n\t<dt>Saturday</dt>\n\t\t<dd>2526.14285714286</dd>\n\t<dt>Sunday</dt>\n\t\t<dd>2526.14285714286</dd>\n</dl>\n"
          },
          "metadata": {}
        }
      ]
    },
    {
      "metadata": {
        "_uuid": "dfc077efd88cab3a7aa072de0e7f32bebbafcb89"
      },
      "cell_type": "markdown",
      "source": "So based on the chi-squared test we can conclude that there is a significant difference in the number of laser incidents across the days of the week (p<2.2e-16). Based on examination of the barplot and frequency table, it appears that this difference is attributed to a higher number of incidents on Friday and Saturday. Since these are the prime nights for alcohol induced mischief, these results lead me to suspect that alcohol may be playing a role in people's deciding to shine laser pointers at aircraft.",
      "outputs": [],
      "execution_count": null
    }
  ],
  "metadata": {
    "kernelspec": {
      "display_name": "R",
      "language": "R",
      "name": "ir"
    },
    "language_info": {
      "mimetype": "text/x-r-source",
      "name": "R",
      "pygments_lexer": "r",
      "version": "3.4.1",
      "file_extension": ".r",
      "codemirror_mode": "r"
    }
  },
  "nbformat": 4,
  "nbformat_minor": 1
}